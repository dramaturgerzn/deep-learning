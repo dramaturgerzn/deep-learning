{
 "cells": [
  {
   "cell_type": "markdown",
   "metadata": {},
   "source": [
    "# Лекция 3: PyTorch - построение моделей\n",
    "\n",
    "__Автор: Сергей Вячеславович Макрушин__ e-mail: SVMakrushin@fa.ru \n",
    "\n",
    "Финансовый универсиет, 2021 г. \n",
    "\n",
    "При подготовке лекции использованы материалы:\n",
    "* ...\n",
    "\n",
    "v 0.13"
   ]
  },
  {
   "cell_type": "code",
   "execution_count": 516,
   "metadata": {},
   "outputs": [
    {
     "data": {
      "text/html": [
       "﻿<style>\r\n",
       "\r\n",
       "\r\n",
       "b.n {\r\n",
       "    font-weight: normal;        \r\n",
       "}\r\n",
       "\r\n",
       "b.grbg {\r\n",
       "    background-color: #a0a0a0;      \r\n",
       "}\r\n",
       "\r\n",
       "b.r {\r\n",
       "    color: #ff0000;    \r\n",
       "}\r\n",
       "\r\n",
       "\r\n",
       "b.b {    \r\n",
       "    color: #0000ff;    \r\n",
       "}\r\n",
       "\r\n",
       "b.g {\r\n",
       "    color: #00ff00;    \r\n",
       "}\r\n",
       "\r\n",
       "\r\n",
       "// add your CSS styling here\r\n",
       "\r\n",
       "list-style: none;\r\n",
       "\r\n",
       "ul.s {\r\n",
       "//    list-style-type: none;\r\n",
       "    list-style: none;\r\n",
       "//    background-color: #ff0000;  \r\n",
       "//    color: #ffff00;\r\n",
       "//  padding-left: 1.2em;\r\n",
       "//  text-indent: -1.2em;\r\n",
       "}\r\n",
       "\r\n",
       "li.t {\r\n",
       "    list-style: none;\r\n",
       "//  padding-left: 1.2em;\r\n",
       "//  text-indent: -1.2em;    \r\n",
       "}\r\n",
       "\r\n",
       "\r\n",
       "*.r {\r\n",
       "    color: #ff0000;    \r\n",
       "}\r\n",
       "\r\n",
       "li.t:before {\r\n",
       "    content: \"\\21D2\";    \r\n",
       "//    content: \"►\";\r\n",
       "//    padding-left: -1.2em;    \r\n",
       "    text-indent: -1.2em;    \r\n",
       "    display: block;\r\n",
       "    float: left;\r\n",
       "    \r\n",
       "    \r\n",
       "//    width: 1.2em;\r\n",
       "//    color: #ff0000;\r\n",
       "}\r\n",
       "\r\n",
       "i.m:before {\r\n",
       "    font-style: normal;    \r\n",
       "    content: \"\\21D2\";  \r\n",
       "}\r\n",
       "i.m {\r\n",
       "    font-style: normal; \r\n",
       "}    \r\n",
       "\r\n",
       "/*--------------------*/\r\n",
       "/* em {\r\n",
       "    font-style: normal; \r\n",
       "} */\r\n",
       "\r\n",
       "\r\n",
       "em.bl {\r\n",
       "    font-style: normal;     \r\n",
       "    font-weight: bold;        \r\n",
       "}\r\n",
       "\r\n",
       "/* em.grbg {\r\n",
       "    font-style: normal;         \r\n",
       "    background-color: #a0a0a0;      \r\n",
       "} */\r\n",
       "\r\n",
       "em.cr {\r\n",
       "    font-style: normal;         \r\n",
       "    color: #ff0000;    \r\n",
       "}\r\n",
       "\r\n",
       "em.cb {    \r\n",
       "    font-style: normal;         \r\n",
       "    color: #0000ff;    \r\n",
       "}\r\n",
       "\r\n",
       "em.cg {\r\n",
       "    font-style: normal;         \r\n",
       "    color: #00ff00;    \r\n",
       "}\r\n",
       "\r\n",
       "/*--------------------*/\r\n",
       "\r\n",
       "em.qs {\r\n",
       "    font-style: normal; \r\n",
       "}\r\n",
       "\r\n",
       "em.qs::before {\r\n",
       "    font-weight: bold;    \r\n",
       "    color: #ff0000;    \r\n",
       "    content: \"Q:\";  \r\n",
       "}\r\n",
       "\r\n",
       "em.an {\r\n",
       "    font-style: normal; \r\n",
       "}\r\n",
       "\r\n",
       "em.an:before {\r\n",
       "    font-weight: bold;    \r\n",
       "    color: #0000ff;    \r\n",
       "    content: \"A:\";  \r\n",
       "}\r\n",
       "    \r\n",
       "em.nt {\r\n",
       "    font-style: normal; \r\n",
       "}\r\n",
       "\r\n",
       "em.nt:before {\r\n",
       "    font-weight: bold;    \r\n",
       "    color: #0000ff;    \r\n",
       "    content: \"Note:\";  \r\n",
       "}    \r\n",
       "    \r\n",
       "em.ex {\r\n",
       "    font-style: normal; \r\n",
       "}\r\n",
       "\r\n",
       "em.ex:before {\r\n",
       "    font-weight: bold;    \r\n",
       "    color: #00ff00;    \r\n",
       "    content: \"Ex:\";  \r\n",
       "} \r\n",
       "    \r\n",
       "em.df {\r\n",
       "    font-style: normal; \r\n",
       "}\r\n",
       "\r\n",
       "em.df:before {\r\n",
       "    font-weight: bold;    \r\n",
       "    color: #0000ff;    \r\n",
       "    content: \"Def:\";  \r\n",
       "}    \r\n",
       "\r\n",
       "em.pl {\r\n",
       "    font-style: normal; \r\n",
       "}\r\n",
       "\r\n",
       "em.pl:before {\r\n",
       "    font-weight: bold;    \r\n",
       "    color: #0000ff;    \r\n",
       "    content: \"+\";  \r\n",
       "}    \r\n",
       "\r\n",
       "em.mn {\r\n",
       "    font-style: normal; \r\n",
       "}\r\n",
       "\r\n",
       "em.mn:before {\r\n",
       "    font-weight: bold;    \r\n",
       "    color: #0000ff;    \r\n",
       "    content: \"-\";  \r\n",
       "}        \r\n",
       "\r\n",
       "em.plmn {\r\n",
       "    font-style: normal; \r\n",
       "}\r\n",
       "\r\n",
       "em.plmn:before {\r\n",
       "    font-weight: bold;    \r\n",
       "    color: #0000ff;    \r\n",
       "    content: \"\\00B1\";\\\\\"&plusmn;\";  \r\n",
       "}\r\n",
       "    \r\n",
       "em.hn {\r\n",
       "    font-style: normal; \r\n",
       "}\r\n",
       "\r\n",
       "em.hn:before {\r\n",
       "    font-weight: bold;    \r\n",
       "    color: #0000ff;    \r\n",
       "    content: \"\\21D2\";\\\\\"&rArr;\";  \r\n",
       "}     \r\n",
       "    \r\n",
       "</style>"
      ],
      "text/plain": [
       "<IPython.core.display.HTML object>"
      ]
     },
     "execution_count": 516,
     "metadata": {},
     "output_type": "execute_result"
    }
   ],
   "source": [
    "# загружаем стиль для оформления презентации\n",
    "from IPython.display import HTML\n",
    "from urllib.request import urlopen\n",
    "html = urlopen(\"file:./lec_v1.css\")\n",
    "HTML(html.read().decode('utf-8'))"
   ]
  },
  {
   "cell_type": "markdown",
   "metadata": {},
   "source": [
    "---\n",
    "## Импорты\n",
    "\n",
    "* Нужно установить PyTorch (см предыдущую лекцию!)"
   ]
  },
  {
   "cell_type": "code",
   "execution_count": 517,
   "metadata": {},
   "outputs": [],
   "source": [
    "import math\n",
    "import csv\n",
    "import itertools as it\n",
    "from collections import Counter\n",
    "import numpy as np\n",
    "\n",
    "import matplotlib\n",
    "import matplotlib.pyplot as plt\n",
    "%matplotlib inline\n",
    "\n",
    "from sklearn import datasets\n",
    "\n",
    "#---------\n",
    "import torch\n",
    "import torch.nn as nn\n",
    "import torch.nn.functional as F\n",
    "import torch.optim as optim\n",
    "\n",
    "import torchvision\n",
    "from torchvision import transforms\n",
    "from torchvision.transforms.functional import normalize\n",
    "import torchvision.datasets as dset\n",
    "\n",
    "from torch.utils.data import Dataset, DataLoader\n",
    "from torch.utils.data.sampler import SubsetRandomSampler, Sampler"
   ]
  },
  {
   "cell_type": "markdown",
   "metadata": {},
   "source": [
    "## Разделы: <a class=\"anchor\" id=\"разделы\"></a>\n",
    "* [Загрузка и преобразование данных](#загрузка)\n",
    "* [Тензоры и опреации с ними в PyTorch](#тензоры)\n",
    "    * [Создание тензоров](#создание-тензоров)\n",
    "    * [Операции с тензорами](#операции-тензоры)    \n",
    "        * [Арифметические операции и математические функции:](#aрифметические)        \n",
    "        * [Операции, изменяющие размер тензора](#размер)        \n",
    "        * [Операции агрегации](#агрегации)        \n",
    "        * [Матричные операции](#aрифметические)                \n",
    "-\n",
    "\n",
    "* [к оглавлению](#разделы)"
   ]
  },
  {
   "cell_type": "markdown",
   "metadata": {},
   "source": [
    "-----\n",
    "\n",
    "## Загрузка и преобразование данных <a class=\"anchor\" id=\"установка\"></a>\n",
    "* [к оглавлению](#разделы)"
   ]
  },
  {
   "cell_type": "markdown",
   "metadata": {},
   "source": [
    "Принципиальная логика организации работы с данными в PyTorch:\n",
    "1. Создается объект `Dataset`\n",
    "    * `Dataset` обеспечивает доступ данным (с помощью интерфеса )\n",
    "    * в параметр `transform` конструктора `Dataset` передается вызываемый объкт, обеспечивающий трансформацию исходных данных \n",
    "2. `Dataset` передается в `DataLoader`\n",
    "    * `DataLoader` обеспечивает загрузку данных батчами, распараллеливает загрузку данных и т.п.\n",
    "    \n",
    "см.: \n",
    "* общая логика: https://pytorch.org/tutorials/beginner/data_loading_tutorial.html\n",
    "* трансформеры: https://pytorch.org/docs/stable/torchvision/transforms.html\n",
    "* DataLoader и то что его окружает: https://pytorch.org/docs/stable/data.html#torch.utils.data.DataLoader"
   ]
  },
  {
   "cell_type": "markdown",
   "metadata": {},
   "source": [
    "__Dataset Types__\n",
    "\n",
    "The most important argument of DataLoader constructor is __dataset__, which indicates a dataset object to load data from. PyTorch supports two different types of datasets:\n",
    "* map-style datasets\n",
    "    * the `__getitem__()` and `__len__()` protocols, and represents a map from (possibly non-integral) indices/keys to data samples.\n",
    "    * For example, such a dataset, when accessed with `dataset[idx]`, could read the `idx`-th image and its corresponding label from a folder on the disk.\n",
    "    * Note: `DataLoader` __by default constructs a index sampler that yields integral indices__. To make it work with a map-style dataset with non-integral indices/keys, a custom sampler must be provided.\n",
    "* iterable-style datasets.\n",
    "    * IterableDataset implements the `__iter__()` protocol, and represents an iterable over data samples. This type of datasets is particularly suitable for cases __where random reads are expensive or even improbable__, and where the batch size depends on the fetched data.\n",
    "\n",
    "* see: https://pytorch.org/docs/stable/data.html#torch.utils.data.Dataset"
   ]
  },
  {
   "cell_type": "markdown",
   "metadata": {},
   "source": [
    "from sklearn import datasets\n",
    "raw_data = datasets.load_wine()\n",
    "raw_data"
   ]
  },
  {
   "cell_type": "markdown",
   "metadata": {},
   "source": [
    "Информация о датасете WINE: https://archive.ics.uci.edu/ml/datasets/wine"
   ]
  },
  {
   "cell_type": "code",
   "execution_count": 518,
   "metadata": {},
   "outputs": [
    {
     "data": {
      "text/plain": [
       "dict_keys(['data', 'target', 'target_names', 'DESCR', 'feature_names'])"
      ]
     },
     "execution_count": 518,
     "metadata": {},
     "output_type": "execute_result"
    }
   ],
   "source": [
    "from sklearn import datasets\n",
    "raw_data = datasets.load_wine()\n",
    "raw_data.keys()"
   ]
  },
  {
   "cell_type": "code",
   "execution_count": 520,
   "metadata": {},
   "outputs": [
    {
     "name": "stdout",
     "output_type": "stream",
     "text": [
      "['alcohol', 'malic_acid', 'ash', 'alcalinity_of_ash', 'magnesium', 'total_phenols', 'flavanoids', 'nonflavanoid_phenols', 'proanthocyanins', 'color_intensity', 'hue', 'od280/od315_of_diluted_wines', 'proline']\n",
      "[[1.423e+01 1.710e+00 2.430e+00 1.560e+01 1.270e+02 2.800e+00 3.060e+00\n",
      "  2.800e-01 2.290e+00 5.640e+00 1.040e+00 3.920e+00 1.065e+03]\n",
      " [1.320e+01 1.780e+00 2.140e+00 1.120e+01 1.000e+02 2.650e+00 2.760e+00\n",
      "  2.600e-01 1.280e+00 4.380e+00 1.050e+00 3.400e+00 1.050e+03]\n",
      " [1.316e+01 2.360e+00 2.670e+00 1.860e+01 1.010e+02 2.800e+00 3.240e+00\n",
      "  3.000e-01 2.810e+00 5.680e+00 1.030e+00 3.170e+00 1.185e+03]]\n",
      "Values:  Counter({1: 71, 0: 59, 2: 48})\n"
     ]
    }
   ],
   "source": [
    "print(raw_data['feature_names'])\n",
    "print(raw_data['data'][:3])\n",
    "print('Values: ', Counter(raw_data['target']))"
   ]
  },
  {
   "cell_type": "code",
   "execution_count": 521,
   "metadata": {},
   "outputs": [
    {
     "name": "stdout",
     "output_type": "stream",
     "text": [
      "Header ['Wine', 'Alcohol', 'Malic.acid', 'Ash', 'Acl', 'Mg', 'Phenols', 'Flavanoids', 'Nonflavanoid.phenols', 'Proanth', 'Color.int', 'Hue', 'OD', 'Proline']\n",
      "line: 0 | ['1', '14.23', '1.71', '2.43', '15.6', '127', '2.8', '3.06', '.28', '2.29', '5.64', '1.04', '3.92', '1065']\n",
      "line: 1 | ['1', '13.2', '1.78', '2.14', '11.2', '100', '2.65', '2.76', '.26', '1.28', '4.38', '1.05', '3.4', '1050']\n",
      "line: 2 | ['1', '13.16', '2.36', '2.67', '18.6', '101', '2.8', '3.24', '.3', '2.81', '5.68', '1.03', '3.17', '1185']\n",
      "Values:  Counter({'2': 71, '1': 59, '3': 48})\n"
     ]
    }
   ],
   "source": [
    "with open('./data/wine/wine.csv') as wine_csv:\n",
    "    # load data:\n",
    "    wine_data = list(csv.reader(wine_csv, delimiter=','))\n",
    "\n",
    "wine_data_it = iter(wine_data)\n",
    "print('Header', list(next(wine_data_it)))\n",
    "for line_n, line in enumerate(it.islice(wine_data_it, 3)):\n",
    "    print(f'line: {line_n} | {line}')\n",
    "    \n",
    "print('Values: ', Counter([l[0] for l in wine_data[1:]]))"
   ]
  },
  {
   "cell_type": "code",
   "execution_count": 522,
   "metadata": {},
   "outputs": [],
   "source": [
    "# Implement a custom Dataset:\n",
    "# inherit Dataset\n",
    "# implement __init__ , __getitem__ , and __len__  \n",
    "class WineDataset(Dataset):\n",
    "\n",
    "    def __init__(self, transform=None, verbose=False):\n",
    "        # load dataset from CSV file (first row: labels)\n",
    "        xy = np.loadtxt('./data/wine/wine.csv', delimiter=',', dtype=np.float32, skiprows=1)\n",
    "\n",
    "        # note that we do not convert to tensor here\n",
    "        self.n_samples = xy.shape[0] # number of samples        \n",
    "        self.y_data = xy[:, [0]] # y in first column (shape: N*1)       \n",
    "        self.x_data = xy[:, 1:]\n",
    "        if verbose:\n",
    "            print(f'y shape:{self.y_data.shape()}')\n",
    "            print(f'x shape:{self.x_data.shape()}')            \n",
    "\n",
    "        # save transformer\n",
    "        self.transform = transform\n",
    "\n",
    "    def __getitem__(self, index):\n",
    "        sample = self.x_data[index], self.y_data[index]\n",
    "\n",
    "        # apply transformer:\n",
    "        if self.transform:\n",
    "            sample = self.transform(sample)\n",
    "\n",
    "        return sample\n",
    "\n",
    "    def __len__(self):\n",
    "        return self.n_samples"
   ]
  },
  {
   "cell_type": "code",
   "execution_count": 523,
   "metadata": {},
   "outputs": [
    {
     "name": "stdout",
     "output_type": "stream",
     "text": [
      "Without Transformation:\n",
      "X: [1.423e+01 1.710e+00 2.430e+00 1.560e+01 1.270e+02 2.800e+00 3.060e+00\n",
      " 2.800e-01 2.290e+00 5.640e+00 1.040e+00 3.920e+00 1.065e+03] <class 'numpy.ndarray'> (13,)\n",
      "y: [1.] <class 'numpy.ndarray'> (1,)\n"
     ]
    }
   ],
   "source": [
    "print('Without Transformation:')\n",
    "dataset = WineDataset()\n",
    "\n",
    "X, y = dataset[0]\n",
    "print('X:', X, type(X), X.shape)\n",
    "print('y:', y, type(y), y.shape)"
   ]
  },
  {
   "cell_type": "markdown",
   "metadata": {},
   "source": [
    "__Transforms__\n",
    "\n",
    "Часто необходим некоторый препроцессинг данных получаемых из данных, оформленных в виде `Dataset`.\n",
    "\n",
    "Мы будем реализовывать препроцессинг в виде __callable classes__ вместо обычных функций, это позволит не передавать параметры трансформации при каждом вызове преобразований. Для создания вызываемых классов в них необходимо реализовать функцию вызова `__call__` и, если необходимо, конструктор `__init__`, через который можно передавать параметры трансформациия:\n",
    "\n",
    "```python\n",
    "tsfm = Transform(params)\n",
    "transformed_sample = tsfm(sample)\n",
    "```\n",
    "\n",
    "* В `torchvision.transforms` находится много готовых трансформеров (см.  https://pytorch.org/docs/stable/torchvision/transforms.html ), большая часть ориентирована на преобразование изображений, но есть несколько универсальных инструментов:\n",
    "    * `torchvision.transforms.Compose` - позволяет создать трансформер из нескольких трансформеров, применяемых последовательно. Пример:\n",
    "    \n",
    "```python\n",
    "transforms.Compose([\n",
    "    transforms.CenterCrop(10),\n",
    "    transforms.ToTensor()\n",
    "])\n",
    "```"
   ]
  },
  {
   "cell_type": "code",
   "execution_count": 524,
   "metadata": {},
   "outputs": [],
   "source": [
    "# Custom Transforms\n",
    "# implement __call__(self, sample)\n",
    "class ToTensor:\n",
    "    # Convert ndarrays to Tensors\n",
    "    def __call__(self, sample):\n",
    "        inputs, targets = sample\n",
    "        return torch.from_numpy(inputs), torch.from_numpy(targets)"
   ]
  },
  {
   "cell_type": "code",
   "execution_count": 525,
   "metadata": {},
   "outputs": [
    {
     "name": "stdout",
     "output_type": "stream",
     "text": [
      "With Tensor Transform\n",
      "X: tensor([1.4230e+01, 1.7100e+00, 2.4300e+00, 1.5600e+01, 1.2700e+02, 2.8000e+00,\n",
      "        3.0600e+00, 2.8000e-01, 2.2900e+00, 5.6400e+00, 1.0400e+00, 3.9200e+00,\n",
      "        1.0650e+03]) <class 'torch.Tensor'> torch.Size([13])\n",
      "y: tensor([1.]) <class 'torch.Tensor'> torch.Size([1])\n"
     ]
    }
   ],
   "source": [
    "print('With Tensor Transform')\n",
    "dataset = WineDataset(transform=ToTensor())\n",
    "\n",
    "X, y = dataset[0]\n",
    "print('X:', X, type(X), X.size())\n",
    "print('y:', y, type(y), y.size())"
   ]
  },
  {
   "cell_type": "code",
   "execution_count": 526,
   "metadata": {},
   "outputs": [],
   "source": [
    "class MulTransform:\n",
    "    # multiply inputs with a given factor\n",
    "    def __init__(self, factor):\n",
    "        self.factor = factor\n",
    "\n",
    "    # multiply imputs by factor:\n",
    "    def __call__(self, sample):\n",
    "        inputs, targets = sample\n",
    "        inputs *= self.factor\n",
    "        return inputs, targets"
   ]
  },
  {
   "cell_type": "code",
   "execution_count": 527,
   "metadata": {},
   "outputs": [
    {
     "name": "stdout",
     "output_type": "stream",
     "text": [
      "With Tensor and Multiplication Transform\n",
      "X: tensor([5.6920e+01, 6.8400e+00, 9.7200e+00, 6.2400e+01, 5.0800e+02, 1.1200e+01,\n",
      "        1.2240e+01, 1.1200e+00, 9.1600e+00, 2.2560e+01, 4.1600e+00, 1.5680e+01,\n",
      "        4.2600e+03]) <class 'torch.Tensor'> torch.Size([13])\n",
      "y: tensor([1.]) <class 'torch.Tensor'> torch.Size([1])\n"
     ]
    }
   ],
   "source": [
    "print('With Tensor and Multiplication Transform')\n",
    "# create composed transformer:\n",
    "composed_tfms = torchvision.transforms.Compose([ToTensor(), MulTransform(4)])\n",
    "dataset_mul = WineDataset(transform=composed_tfms)\n",
    "\n",
    "X, y = dataset_mul[0]\n",
    "print('X:', X, type(X), X.size())\n",
    "print('y:', y, type(y), y.size())"
   ]
  },
  {
   "cell_type": "markdown",
   "metadata": {},
   "source": [
    "Имеется модуль `torchvision.transforms.functional` (обычно импортируется как `python import torch.nn.functional as F`) в котором есть множество готовых трансформеров (в основном для преобразования изображений):\n",
    "* подробнее см.: https://pytorch.org/docs/stable/torchvision/transforms.html \n",
    "\n",
    "```python\n",
    "class Normalize(object):\n",
    "    def __call__(self, tensor):\n",
    "        \"\"\"\n",
    "        Args:\n",
    "            tensor (Tensor): Tensor image of size (C, H, W) to be normalized.\n",
    "\n",
    "        Returns:\n",
    "            Tensor: Normalized Tensor image.\n",
    "        \"\"\"\n",
    "        return F.normalize(tensor, self.mean, self.std, self.inplace)\n",
    "\n",
    "    def __repr__(self):\n",
    "        return self.__class__.__name__ + '(mean={0}, std={1})'.format(self.mean, self.std)\n",
    "```"
   ]
  },
  {
   "cell_type": "markdown",
   "metadata": {},
   "source": [
    "__DataLoader__\n",
    "\n",
    "`DataLoader` подгружает данные, предоставляемые классом `Dataset`, во время тренировки и группирует их в батчи. \n",
    "Он дает возможность указать `Sampler`, который выбирает, какие примеры из датасета использовать для тренировки. Этот параметр можно использовать для разделения данных на training и validation.\n",
    "\n",
    "`torch.utils.data.DataLoader` это итератор, который обеспечивает:\n",
    "* организацию данных в батчи (batching the data)\n",
    "* перемешивание данных (shuffling the data)\n",
    "* параллельную загрузку данных с использованием multiprocessing workers.\n",
    "\n",
    "Основные параметры:\n",
    "* `dataset` (Dataset) – dataset from which to load the data.\n",
    "* `batch_size` (int, optional) – how many samples per batch to load (default: 1).\n",
    "* `shuffle` (bool, optional) – set to True to have the data reshuffled at every epoch (default: False).\n",
    "* `sampler` (Sampler, optional) – defines the strategy to draw samples from the dataset. If specified, shuffle must be False.\n",
    "* `num_workers` (int, optional) – how many subprocesses to use for data loading. 0 means that the data will be loaded in the main process. (default: 0)\n",
    "\n",
    "Подробнее см. в: https://pytorch.org/docs/stable/data.html#torch.utils.data.DataLoader"
   ]
  },
  {
   "cell_type": "code",
   "execution_count": 63,
   "metadata": {},
   "outputs": [],
   "source": [
    "# Load whole dataset with DataLoader\n",
    "# shuffle: shuffle data, good for training\n",
    "# num_workers: faster loading with multiple subprocesses\n",
    "# !!! IF YOU GET AN ERROR DURING LOADING, SET num_workers TO 0 !!!\n",
    "train_loader = DataLoader(dataset=dataset,\n",
    "                          batch_size=4,\n",
    "                          shuffle=True,\n",
    "                          num_workers=0)"
   ]
  },
  {
   "cell_type": "code",
   "execution_count": 528,
   "metadata": {},
   "outputs": [
    {
     "name": "stdout",
     "output_type": "stream",
     "text": [
      "features: tensor([[3.4839e+06, 5.1642e+05, 7.0255e+05, 4.4040e+06, 2.6739e+07, 7.8643e+05,\n",
      "         8.4673e+05, 8.1265e+04, 4.3516e+05, 1.5729e+06, 2.8049e+05, 7.4449e+05,\n",
      "         3.3292e+08],\n",
      "        [1.4879e+07, 1.6672e+06, 2.6005e+06, 1.7302e+07, 1.1325e+08, 3.4603e+06,\n",
      "         4.1209e+06, 3.3554e+05, 1.9504e+06, 9.1226e+06, 1.2897e+06, 2.9570e+06,\n",
      "         1.7616e+09],\n",
      "        [3.3345e+06, 4.5875e+05, 5.9769e+05, 5.8982e+06, 2.2020e+07, 3.6176e+05,\n",
      "         4.6137e+05, 1.2583e+05, 4.2729e+05, 8.6508e+05, 2.3069e+05, 6.3439e+05,\n",
      "         1.2793e+08],\n",
      "        [3.1457e+06, 3.9584e+05, 6.3439e+05, 5.7672e+06, 2.2544e+07, 3.8011e+05,\n",
      "         3.2768e+05, 1.3107e+05, 4.2729e+05, 9.4372e+05, 2.7525e+05, 6.9468e+05,\n",
      "         1.1796e+08]]) torch.Size([4, 13])\n",
      "labels: tensor([[1.],\n",
      "        [1.],\n",
      "        [2.],\n",
      "        [2.]]) torch.Size([4, 1])\n"
     ]
    }
   ],
   "source": [
    "dataiter = iter(train_loader)\n",
    "data = dataiter.next()\n",
    "features, labels = data\n",
    "print('features:', features, features.shape)\n",
    "print('labels:', labels, labels.shape)      "
   ]
  },
  {
   "cell_type": "code",
   "execution_count": 529,
   "metadata": {
    "scrolled": true
   },
   "outputs": [
    {
     "name": "stdout",
     "output_type": "stream",
     "text": [
      "178 45\n",
      "Epoch: 1/2, Step 5/45| Inputs torch.Size([4, 13]) | Labels torch.Size([4, 1])\n",
      "Epoch: 1/2, Step 10/45| Inputs torch.Size([4, 13]) | Labels torch.Size([4, 1])\n",
      "Epoch: 1/2, Step 15/45| Inputs torch.Size([4, 13]) | Labels torch.Size([4, 1])\n",
      "Epoch: 1/2, Step 20/45| Inputs torch.Size([4, 13]) | Labels torch.Size([4, 1])\n",
      "Epoch: 1/2, Step 25/45| Inputs torch.Size([4, 13]) | Labels torch.Size([4, 1])\n",
      "Epoch: 1/2, Step 30/45| Inputs torch.Size([4, 13]) | Labels torch.Size([4, 1])\n",
      "Epoch: 1/2, Step 35/45| Inputs torch.Size([4, 13]) | Labels torch.Size([4, 1])\n",
      "Epoch: 1/2, Step 40/45| Inputs torch.Size([4, 13]) | Labels torch.Size([4, 1])\n",
      "Epoch: 1/2, Step 45/45| Inputs torch.Size([2, 13]) | Labels torch.Size([4, 1])\n",
      "Epoch: 2/2, Step 5/45| Inputs torch.Size([4, 13]) | Labels torch.Size([4, 1])\n",
      "Epoch: 2/2, Step 10/45| Inputs torch.Size([4, 13]) | Labels torch.Size([4, 1])\n",
      "Epoch: 2/2, Step 15/45| Inputs torch.Size([4, 13]) | Labels torch.Size([4, 1])\n",
      "Epoch: 2/2, Step 20/45| Inputs torch.Size([4, 13]) | Labels torch.Size([4, 1])\n",
      "Epoch: 2/2, Step 25/45| Inputs torch.Size([4, 13]) | Labels torch.Size([4, 1])\n",
      "Epoch: 2/2, Step 30/45| Inputs torch.Size([4, 13]) | Labels torch.Size([4, 1])\n",
      "Epoch: 2/2, Step 35/45| Inputs torch.Size([4, 13]) | Labels torch.Size([4, 1])\n",
      "Epoch: 2/2, Step 40/45| Inputs torch.Size([4, 13]) | Labels torch.Size([4, 1])\n",
      "Epoch: 2/2, Step 45/45| Inputs torch.Size([2, 13]) | Labels torch.Size([4, 1])\n"
     ]
    }
   ],
   "source": [
    "# Dummy Training loop\n",
    "num_epochs = 2\n",
    "total_samples = len(dataset)\n",
    "n_iterations = math.ceil(total_samples/4)\n",
    "print(total_samples, n_iterations)\n",
    "\n",
    "for epoch in range(num_epochs):\n",
    "    for i, (inputs, targets) in enumerate(train_loader):        \n",
    "        # here: 178 samples, batch_size = 4, n_iters=178/4=44.5 -> 45 iterations\n",
    "        # Run your training process\n",
    "        if (i+1) % 5 == 0:\n",
    "            print(f'Epoch: {epoch+1}/{num_epochs}, Step {i+1}/{n_iterations}| Inputs {inputs.shape} | Labels {labels.shape}')"
   ]
  },
  {
   "cell_type": "code",
   "execution_count": 1,
   "metadata": {},
   "outputs": [
    {
     "name": "stdout",
     "output_type": "stream",
     "text": [
      " ’®¬ ў гбва®©бвўҐ E Ё¬ҐҐв ¬ҐвЄг Data\n",
      " ‘ҐаЁ©­л© ­®¬Ґа в®¬ : EE2C-D1DD\n",
      "\n",
      " ‘®¤Ґа¦Ё¬®Ґ Ї ЇЄЁ E:\\YandexDisk\\Python\\Ipynb\\ML_DL_2021\\lec03_PyTorch_p3\n",
      "\n",
      "08.03.2021  23:04    <DIR>          .\n",
      "08.03.2021  23:04    <DIR>          ..\n",
      "04.02.2021  16:08    <DIR>          .ipynb_checkpoints\n",
      "08.03.2021  23:04           199я469 TCN20_lNNp3_v12.ipynb\n",
      "               1 д ©«®ў        199я469 Ў ©в\n",
      "               3 Ї Ї®Є  336я128я081я920 Ў ©в бў®Ў®¤­®\n"
     ]
    }
   ],
   "source": [
    "ls"
   ]
  },
  {
   "cell_type": "markdown",
   "metadata": {},
   "source": [
    "---\n",
    "## Нормализация\n",
    "\n",
    "<center>     \n",
    "    <img src=\"./img03/preprocessing_2.png\" alt=\"Предобработка данных\" style=\"width: 400px;\"/>\n",
    "    <strong>Предобработка данных</strong>\n",
    "</center>\n"
   ]
  },
  {
   "cell_type": "code",
   "execution_count": 530,
   "metadata": {},
   "outputs": [],
   "source": [
    "bs = 4\n",
    "\n",
    "composed_tfms = transforms.Compose([\n",
    "            ToTensor() \n",
    "            # don't use Normalize() for the first time\n",
    "        ])\n",
    "\n",
    "dataset = WineDataset(transform=composed_tfms)"
   ]
  },
  {
   "cell_type": "code",
   "execution_count": 133,
   "metadata": {},
   "outputs": [
    {
     "data": {
      "text/plain": [
       "2"
      ]
     },
     "execution_count": 133,
     "metadata": {},
     "output_type": "execute_result"
    }
   ],
   "source": [
    "# axes.ndim"
   ]
  },
  {
   "cell_type": "code",
   "execution_count": 531,
   "metadata": {},
   "outputs": [],
   "source": [
    "# axes.shape"
   ]
  },
  {
   "cell_type": "code",
   "execution_count": 184,
   "metadata": {},
   "outputs": [
    {
     "data": {
      "image/png": "[encoded data removed]",
      "text/plain": [
       "<Figure size 720x720 with 16 Axes>"
      ]
     },
     "metadata": {
      "needs_background": "light"
     },
     "output_type": "display_data"
    }
   ],
   "source": [
    "points = dataset.x_data\n",
    "fig, axes = plt.subplots(4, 4, figsize=(10, 10))\n",
    "use_lim = True\n",
    "lim = 25.0\n",
    "\n",
    "for i in range(axes.shape[0]):\n",
    "    for j in range(axes.shape[1]):      \n",
    "        ax = axes[i, j]\n",
    "        if use_lim:\n",
    "            ax.set_xlim([-lim, lim])                \n",
    "            ax.set_ylim([-lim, lim])\n",
    "        ax.scatter(points[:, j], points[:, i], s = 2)"
   ]
  },
  {
   "cell_type": "code",
   "execution_count": 532,
   "metadata": {},
   "outputs": [
    {
     "data": {
      "text/plain": [
       "array([1.3000614e+01, 2.3363481e+00, 2.3665185e+00, 1.9494946e+01,\n",
       "       9.9741570e+01, 2.2951121e+00, 2.0292699e+00, 3.6185396e-01,\n",
       "       1.5908992e+00, 5.0580897e+00, 9.5744956e-01, 2.6116843e+00,\n",
       "       7.4689325e+02], dtype=float32)"
      ]
     },
     "execution_count": 532,
     "metadata": {},
     "output_type": "execute_result"
    }
   ],
   "source": [
    "# получаем среднее по всему датасету:\n",
    "wine_mean = dataset.x_data.mean(axis=0)\n",
    "wine_mean"
   ]
  },
  {
   "cell_type": "code",
   "execution_count": 533,
   "metadata": {
    "scrolled": false
   },
   "outputs": [
    {
     "data": {
      "text/plain": [
       "array([8.0954307e-01, 1.1140037e+00, 2.7357230e-01, 3.3301697e+00,\n",
       "       1.4242310e+01, 6.2409055e-01, 9.9604911e-01, 1.2410324e-01,\n",
       "       5.7074893e-01, 2.3117647e+00, 2.2792861e-01, 7.0799321e-01,\n",
       "       3.1402167e+02], dtype=float32)"
      ]
     },
     "execution_count": 533,
     "metadata": {},
     "output_type": "execute_result"
    }
   ],
   "source": [
    "# получаем стандартное отклонение по всему датасету:\n",
    "wine_std = dataset.x_data.std(axis=0)\n",
    "wine_std"
   ]
  },
  {
   "cell_type": "code",
   "execution_count": 515,
   "metadata": {},
   "outputs": [],
   "source": [
    "# Тест для фичи 0:\n",
    "\n",
    "# r = (dataset.x_data - wine_mean)/wine_std\n",
    "# r[:, 0]"
   ]
  },
  {
   "cell_type": "code",
   "execution_count": 534,
   "metadata": {},
   "outputs": [],
   "source": [
    "class Normalize:\n",
    "    def __init__(self, mean, std, inplace=False):\n",
    "        self.mean = torch.tensor(mean)\n",
    "        self.std = torch.tensor(std)\n",
    "        self.inplace = inplace\n",
    "\n",
    "    def __call__(self, sample):\n",
    "        inputs, targets = sample\n",
    "        \n",
    "        if not self.inplace:\n",
    "            inputs = inputs.clone()\n",
    "        inputs.sub_(self.mean).div_(self.std)\n",
    "        return inputs, targets"
   ]
  },
  {
   "cell_type": "code",
   "execution_count": 535,
   "metadata": {},
   "outputs": [],
   "source": [
    "batch_size = 4\n",
    "\n",
    "composed_tfms = transforms.Compose([\n",
    "            ToTensor(), \n",
    "            Normalize(wine_mean, wine_std)\n",
    "        ])\n",
    "\n",
    "train_ds = WineDataset(transform=composed_tfms)\n",
    "train_dl = DataLoader(train_ds, batch_size=batch_size, shuffle=False)"
   ]
  },
  {
   "cell_type": "code",
   "execution_count": 536,
   "metadata": {},
   "outputs": [
    {
     "name": "stdout",
     "output_type": "stream",
     "text": [
      "features: tensor([[ 1.5186, -0.5622,  0.2320, -1.1696,  1.9139,  0.8090,  1.0348, -0.6596,\n",
      "          1.2249,  0.2517,  0.3622,  1.8479,  1.0130],\n",
      "        [ 0.2463, -0.4994, -0.8280, -2.4908,  0.0181,  0.5686,  0.7336, -0.8207,\n",
      "         -0.5447, -0.2933,  0.4060,  1.1135,  0.9652],\n",
      "        [ 0.1969,  0.0212,  1.1093, -0.2687,  0.0884,  0.8090,  1.2155, -0.4984,\n",
      "          2.1360,  0.2690,  0.3183,  0.7886,  1.3951],\n",
      "        [ 1.6916, -0.3468,  0.4879, -0.8093,  0.9309,  2.4914,  1.4665, -0.9819,\n",
      "          1.0322,  1.1861, -0.4275,  1.1841,  2.3346]]) torch.Size([4, 13])\n",
      "labels: tensor([[1.],\n",
      "        [1.],\n",
      "        [1.],\n",
      "        [1.]]) torch.Size([4, 1])\n"
     ]
    }
   ],
   "source": [
    "dataiter = iter(train_dl)\n",
    "data = dataiter.next()\n",
    "features, labels = data\n",
    "print('features:', features, features.shape)\n",
    "print('labels:', labels, labels.shape)   "
   ]
  },
  {
   "cell_type": "code",
   "execution_count": 537,
   "metadata": {},
   "outputs": [
    {
     "name": "stdout",
     "output_type": "stream",
     "text": [
      "178 45\n",
      "Epoch: 1/1, Step 5/45| Inputs torch.Size([4, 13]) | Labels torch.Size([4, 1])\n",
      "Epoch: 1/1, Step 10/45| Inputs torch.Size([4, 13]) | Labels torch.Size([4, 1])\n",
      "Epoch: 1/1, Step 15/45| Inputs torch.Size([4, 13]) | Labels torch.Size([4, 1])\n",
      "Epoch: 1/1, Step 20/45| Inputs torch.Size([4, 13]) | Labels torch.Size([4, 1])\n",
      "Epoch: 1/1, Step 25/45| Inputs torch.Size([4, 13]) | Labels torch.Size([4, 1])\n",
      "Epoch: 1/1, Step 30/45| Inputs torch.Size([4, 13]) | Labels torch.Size([4, 1])\n",
      "Epoch: 1/1, Step 35/45| Inputs torch.Size([4, 13]) | Labels torch.Size([4, 1])\n",
      "Epoch: 1/1, Step 40/45| Inputs torch.Size([4, 13]) | Labels torch.Size([4, 1])\n",
      "Epoch: 1/1, Step 45/45| Inputs torch.Size([2, 13]) | Labels torch.Size([4, 1])\n"
     ]
    }
   ],
   "source": [
    "# Dummy Training loop\n",
    "num_epochs = 1\n",
    "total_samples = len(dataset)\n",
    "n_iterations = math.ceil(total_samples/4)\n",
    "print(total_samples, n_iterations)\n",
    "\n",
    "\n",
    "inputs_points = None\n",
    "for epoch in range(num_epochs):\n",
    "    for i, (inputs, targets) in enumerate(train_dl):        \n",
    "        # here: 178 samples, batch_size = 4, n_iters=178/4=44.5 -> 45 iterations\n",
    "        # Run your training process\n",
    "        if inputs_points is None:\n",
    "            inputs_points = inputs.clone()\n",
    "        else:\n",
    "            inputs_points = torch.cat((inputs_points, inputs))\n",
    "        \n",
    "        if (i+1) % 5 == 0:\n",
    "            print(f'Epoch: {epoch+1}/{num_epochs}, Step {i+1}/{n_iterations}| Inputs {inputs.shape} | Labels {labels.shape}')"
   ]
  },
  {
   "cell_type": "code",
   "execution_count": 538,
   "metadata": {},
   "outputs": [
    {
     "data": {
      "text/plain": [
       "torch.Size([178, 13])"
      ]
     },
     "execution_count": 538,
     "metadata": {},
     "output_type": "execute_result"
    }
   ],
   "source": [
    "inputs_points.size()"
   ]
  },
  {
   "cell_type": "code",
   "execution_count": 181,
   "metadata": {},
   "outputs": [],
   "source": [
    "# Тест для фичи 0:\n",
    "\n",
    "# inputs_points[:, 0]"
   ]
  },
  {
   "cell_type": "code",
   "execution_count": 539,
   "metadata": {},
   "outputs": [
    {
     "data": {
      "image/png": "[encoded data removed]",
      "text/plain": [
       "<Figure size 720x720 with 16 Axes>"
      ]
     },
     "metadata": {
      "needs_background": "light"
     },
     "output_type": "display_data"
    }
   ],
   "source": [
    "points = inputs_points\n",
    "fig, axes = plt.subplots(4, 4, figsize=(10, 10))\n",
    "use_lim = True\n",
    "lim = 5.0\n",
    "\n",
    "for i in range(axes.shape[0]):\n",
    "    for j in range(axes.shape[1]):      \n",
    "        ax = axes[i, j]\n",
    "        if use_lim:\n",
    "            ax.set_xlim([-lim, lim])                \n",
    "            ax.set_ylim([-lim, lim])\n",
    "        ax.scatter(points[:, j], points[:, i], s = 2)"
   ]
  },
  {
   "cell_type": "code",
   "execution_count": null,
   "metadata": {},
   "outputs": [],
   "source": [
    "mean, std = np.mean(image), np.std(image)\n",
    "image = image - mean\n",
    "image = image / std"
   ]
  },
  {
   "cell_type": "code",
   "execution_count": 90,
   "metadata": {},
   "outputs": [
    {
     "data": {
      "text/plain": [
       "array([[1.423e+01, 1.710e+00, 2.430e+00, ..., 1.040e+00, 3.920e+00,\n",
       "        1.065e+03],\n",
       "       [1.320e+01, 1.780e+00, 2.140e+00, ..., 1.050e+00, 3.400e+00,\n",
       "        1.050e+03],\n",
       "       [1.316e+01, 2.360e+00, 2.670e+00, ..., 1.030e+00, 3.170e+00,\n",
       "        1.185e+03],\n",
       "       ...,\n",
       "       [1.327e+01, 4.280e+00, 2.260e+00, ..., 5.900e-01, 1.560e+00,\n",
       "        8.350e+02],\n",
       "       [1.317e+01, 2.590e+00, 2.370e+00, ..., 6.000e-01, 1.620e+00,\n",
       "        8.400e+02],\n",
       "       [1.413e+01, 4.100e+00, 2.740e+00, ..., 6.100e-01, 1.600e+00,\n",
       "        5.600e+02]], dtype=float32)"
      ]
     },
     "execution_count": 90,
     "metadata": {},
     "output_type": "execute_result"
    }
   ],
   "source": [
    "dataset.x_data"
   ]
  },
  {
   "cell_type": "markdown",
   "metadata": {},
   "source": [
    "__Batch normalization__ \n",
    "\n",
    "$$x^{(k)}=\\frac{x^{(k)}-\\mathbb{E} \\left [x^{(k)}\\right ]}{\\sqrt{\\operatorname{Var}\\left [x^{(k)}\\right ]}}$$\n",
    "\n",
    "$$y^{(k)} =\\gamma^{k}x^{(k)}+\\beta^{k}$$\n",
    "\n",
    "* Ускоряет и стаблизирует тренировку\n",
    "* Регуляризует\n",
    "* Не так важна инициализация"
   ]
  },
  {
   "cell_type": "code",
   "execution_count": null,
   "metadata": {},
   "outputs": [],
   "source": []
  },
  {
   "cell_type": "markdown",
   "metadata": {},
   "source": [
    "<center>     \n",
    "    <img src=\"./img03/prec_rec_1.png\" alt=\"Предобработка данных\" style=\"width: 250px;\"/>\n",
    "    <strong>Предобработка данных</strong>\n",
    "</center>\n",
    "\n",
    "* Правильные ответы:\n",
    "    * TP - истино-положительное решение\n",
    "    * TN - истино-отрицательное решение\n",
    "* Ошибки:\n",
    "    * FP - ложно-положительное решение (false positive) / ошибка 1го рода\n",
    "    * FN - ложно-отрицательное решение (false negative) / ошибка 2го рода\n",
    "\n",
    "\n",
    "* Тривиальная метрика качества в двухклассовой классификации: $Accuracy=\\frac{correct}{total}$.\n",
    "    * Проблема: при несбалансированном наборе данных (обычно он всегда такой!) тривиальный ответ может давать высокую Accuracy.\n",
    "* Улучшенные метрики качества:\n",
    "    * $Precision=\\frac{TP}{TP+FP}$ - точность \n",
    "    * $Recall=\\frac{TP}{TP+FN}$ - полнота\n",
    "\n",
    "\n",
    "* $F_1=2\\cdot\\frac{Precision \\cdot Recall}{Precision+Recall}$ (в диапазоне от 0 до 1).\n",
    "\n",
    "* The general formula for positive real $\\beta$, where $\\beta$ is chosen such that recall is considered $\\beta$ times as important as precision, is: $F_\\beta = (1 + \\beta^2) \\cdot \\frac{\\mathrm{precision} \\cdot \\mathrm{recall}}{(\\beta^2 \\cdot \\mathrm{precision}) + \\mathrm{recall}}$\n"
   ]
  },
  {
   "cell_type": "markdown",
   "metadata": {},
   "source": [
    "__Перекрестная энтропия__\n",
    "\n",
    "В задаче классификации мы хотим оценить вероятность различных исходов. Если ожидаемая вероятность исхода $i$ это $q_i$ при том что частота (эмпирическая оценка вероятности) исхода $i$ в тренировочном множестве это $p_i$ и всего в тренировочном множестве имеется $N$ исходов тогда правдоподобие в тренировочном множестве пропорционально:\n",
    "\n",
    "$$\\prod_i q_i^{N \\cdot p_i}$$\n",
    "\n",
    "тогда логарифм правдоподобия (log-likelihood) деленный на $N$ это:\n",
    "\n",
    "$$\\frac{1}{N} \\log \\prod_i q_i^{N p_i} = \\sum_i p_i \\log q_i = -H(p, q)$$\n",
    "\n",
    "таким образом максимизация правдоподобия происходит при минимизации функции перекрестной энтропии (cross entropy), определяемой для дискретных случайных величин $p$ и $q$ по формуле:\n",
    "\n",
    "$$H(p,q) = -\\sum_{x\\in\\mathcal{X}} p(x)\\, \\log q(x)$$\n",
    "\n",
    "\n",
    "Т.к. в реализации задач оптимизации принято искать параметры модели, при которых достигается минимум (в нашем случае - минимум функции потерь), то обычно минимзируют функцию потерь Negative Log-likelihood:\n",
    "\n",
    "$$\\mathcal{L} = - \\sum_i p_i \\log q_i = H(p, q)$$"
   ]
  },
  {
   "cell_type": "markdown",
   "metadata": {},
   "source": [
    "__Логистическая регрессия__\n",
    "\n",
    "* Рассмотрим случай __логистической регресии__ которая используется для классификации наблюдений на два класса, обозначим их $0$ и $1$.\n",
    "* Результат модели для наблюдения, представленного вектором факторов (features) $\\mathbf{x}$, может быть интерпретирован как вероятность отнесения наблюдения к одному из классов. Для этого используется  __логистическая функция__: $\\sigma(z)=1/(1+e^{-z})$. \n",
    "\n",
    "<center>     \n",
    "    <img src=\"./img03/1920px-Logistic-curve.svg.png\" alt=\"Предобработка данных\" style=\"width: 250px;\"/>\n",
    "    <strong>Предобработка данных</strong>\n",
    "</center>\n",
    "\n",
    "\n",
    "При этом $z$ это результат преобразования входного вектора $\\mathbf{x}$, чаще всего реализуемого с помощью линейной функции: $z = \\mathbf{w}\\cdot\\mathbf{x}$.\n",
    "* Тогда:\n",
    "    * веротяноть значения $y=1$ для наблюдения $\\mathbf{x}$:\n",
    "$$q_{y=1}\\ =\\ \\hat{y}\\ \\equiv\\ \\sigma (\\mathbf{w}\\cdot\\mathbf{x})\\ = 1/(1+e^{-\\mathbf{w}\\cdot\\mathbf{x}})$$\n",
    "    * и, соответственно, вероятность значения $y=0$:\n",
    "$$q_{y=0}\\ =\\ 1-\\hat{y}$$\n",
    "\n",
    "* <em class=\"ex\"></em> Например, мы имеем $N$ наблюдений имеющих индексы $n=1,\\dots,N$ и линейную функцию преобразования входного вектора, тогда среднее значение функции потерь:\n",
    "\n",
    "$$\\begin{align}\n",
    "    \\mathcal{L}(\\mathbf{w})\\ &=\\ \\frac1N\\sum_{n=1}^N H(p_n,q_n)\\ =\\ -\\frac1N\\sum_{n=1}^N\\ \\bigg[y_n  \\log \\hat y_n + (1 - y_n)  \\log (1 - \\hat y_n)\\bigg]\\,,\n",
    "\\end{align}$$\n",
    "\n",
    "где при использовании ленейной функции преобразования имеем $\\hat{y}_n = \\sigma(z) = \\sigma(\\mathbf{w}\\cdot\\mathbf{x}_n) = 1/(1+e^{-\\mathbf{w}\\cdot\\mathbf{x}_n})$"
   ]
  },
  {
   "cell_type": "code",
   "execution_count": 185,
   "metadata": {},
   "outputs": [
    {
     "data": {
      "text/plain": [
       "(array([1.3000614e+01, 2.3363481e+00, 2.3665185e+00, 1.9494946e+01,\n",
       "        9.9741570e+01, 2.2951121e+00, 2.0292699e+00, 3.6185396e-01,\n",
       "        1.5908992e+00, 5.0580897e+00, 9.5744956e-01, 2.6116843e+00,\n",
       "        7.4689325e+02], dtype=float32),\n",
       " array([8.0954307e-01, 1.1140037e+00, 2.7357230e-01, 3.3301697e+00,\n",
       "        1.4242310e+01, 6.2409055e-01, 9.9604911e-01, 1.2410324e-01,\n",
       "        5.7074893e-01, 2.3117647e+00, 2.2792861e-01, 7.0799321e-01,\n",
       "        3.1402167e+02], dtype=float32))"
      ]
     },
     "execution_count": 185,
     "metadata": {},
     "output_type": "execute_result"
    }
   ],
   "source": [
    "wine_mean, wine_std"
   ]
  },
  {
   "cell_type": "code",
   "execution_count": 220,
   "metadata": {},
   "outputs": [
    {
     "data": {
      "text/plain": [
       "False"
      ]
     },
     "execution_count": 220,
     "metadata": {},
     "output_type": "execute_result"
    }
   ],
   "source": [
    "torch.cuda.is_available()"
   ]
  },
  {
   "cell_type": "markdown",
   "metadata": {},
   "source": [
    "__Решаем задачу двухклассовой классификации__\n",
    "\n",
    "Используем:\n",
    "* результат $z$ преобразования входного вектора $\\mathbf{x}$, (чаще всего реализуемого с помощью линейной функции: $z = \\mathbf{w}\\cdot\\mathbf{x}$) направляем на сигмоиду: https://pytorch.org/docs/master/generated/torch.nn.Sigmoid.html\n",
    "* В качестве функции ошибки используем Binary Cross Entropy: https://pytorch.org/docs/stable/nn.html#torch.nn.BCELoss , используем усреднение по мини батчу (значение по умолчанию для параметра reduction = 'mean')."
   ]
  },
  {
   "cell_type": "code",
   "execution_count": 540,
   "metadata": {},
   "outputs": [
    {
     "name": "stdout",
     "output_type": "stream",
     "text": [
      "input_size:13, hidden_size:50, num_classes:2\n",
      "Epoch [1/30], Step [2/45], Loss: 0.6712\n",
      "Epoch [1/30], Step [4/45], Loss: 0.7114\n",
      "Epoch [1/30], Step [6/45], Loss: 0.6287\n",
      "Epoch [1/30], Step [8/45], Loss: 0.6647\n",
      "Epoch [2/30], Step [2/45], Loss: 0.6107\n",
      "Epoch [2/30], Step [4/45], Loss: 0.6127\n",
      "Epoch [2/30], Step [6/45], Loss: 0.5520\n",
      "Epoch [2/30], Step [8/45], Loss: 0.6235\n",
      "Epoch [3/30], Step [2/45], Loss: 0.5520\n",
      "Epoch [3/30], Step [4/45], Loss: 0.5280\n",
      "Epoch [3/30], Step [6/45], Loss: 0.5445\n",
      "Epoch [3/30], Step [8/45], Loss: 0.5441\n",
      "Epoch [4/30], Step [2/45], Loss: 0.4312\n",
      "Epoch [4/30], Step [4/45], Loss: 0.4813\n",
      "Epoch [4/30], Step [6/45], Loss: 0.5055\n",
      "Epoch [4/30], Step [8/45], Loss: 0.4973\n",
      "Epoch [5/30], Step [2/45], Loss: 0.4854\n",
      "Epoch [5/30], Step [4/45], Loss: 0.4158\n",
      "Epoch [5/30], Step [6/45], Loss: 0.3917\n",
      "Epoch [5/30], Step [8/45], Loss: 0.4909\n",
      "Epoch [6/30], Step [2/45], Loss: 0.4005\n",
      "Epoch [6/30], Step [4/45], Loss: 0.4004\n",
      "Epoch [6/30], Step [6/45], Loss: 0.3797\n",
      "Epoch [6/30], Step [8/45], Loss: 0.4203\n",
      "Epoch [7/30], Step [2/45], Loss: 0.3016\n",
      "Epoch [7/30], Step [4/45], Loss: 0.3867\n",
      "Epoch [7/30], Step [6/45], Loss: 0.3880\n",
      "Epoch [7/30], Step [8/45], Loss: 0.3301\n",
      "Epoch [8/30], Step [2/45], Loss: 0.3577\n",
      "Epoch [8/30], Step [4/45], Loss: 0.3299\n",
      "Epoch [8/30], Step [6/45], Loss: 0.2492\n",
      "Epoch [8/30], Step [8/45], Loss: 0.2821\n",
      "Epoch [9/30], Step [2/45], Loss: 0.3408\n",
      "Epoch [9/30], Step [4/45], Loss: 0.2478\n",
      "Epoch [9/30], Step [6/45], Loss: 0.2679\n",
      "Epoch [9/30], Step [8/45], Loss: 0.2768\n",
      "Epoch [10/30], Step [2/45], Loss: 0.2211\n",
      "Epoch [10/30], Step [4/45], Loss: 0.2605\n",
      "Epoch [10/30], Step [6/45], Loss: 0.2302\n",
      "Epoch [10/30], Step [8/45], Loss: 0.2824\n",
      "Epoch [11/30], Step [2/45], Loss: 0.2091\n",
      "Epoch [11/30], Step [4/45], Loss: 0.2256\n",
      "Epoch [11/30], Step [6/45], Loss: 0.2436\n",
      "Epoch [11/30], Step [8/45], Loss: 0.2356\n",
      "Epoch [12/30], Step [2/45], Loss: 0.1857\n",
      "Epoch [12/30], Step [4/45], Loss: 0.1796\n",
      "Epoch [12/30], Step [6/45], Loss: 0.1773\n",
      "Epoch [12/30], Step [8/45], Loss: 0.1909\n",
      "Epoch [13/30], Step [2/45], Loss: 0.2265\n",
      "Epoch [13/30], Step [4/45], Loss: 0.1577\n",
      "Epoch [13/30], Step [6/45], Loss: 0.1359\n",
      "Epoch [13/30], Step [8/45], Loss: 0.2231\n",
      "Epoch [14/30], Step [2/45], Loss: 0.2170\n",
      "Epoch [14/30], Step [4/45], Loss: 0.1174\n",
      "Epoch [14/30], Step [6/45], Loss: 0.1694\n",
      "Epoch [14/30], Step [8/45], Loss: 0.1925\n",
      "Epoch [15/30], Step [2/45], Loss: 0.1461\n",
      "Epoch [15/30], Step [4/45], Loss: 0.1263\n",
      "Epoch [15/30], Step [6/45], Loss: 0.0800\n",
      "Epoch [15/30], Step [8/45], Loss: 0.1567\n",
      "Epoch [16/30], Step [2/45], Loss: 0.1276\n",
      "Epoch [16/30], Step [4/45], Loss: 0.2273\n",
      "Epoch [16/30], Step [6/45], Loss: 0.1215\n",
      "Epoch [16/30], Step [8/45], Loss: 0.1180\n",
      "Epoch [17/30], Step [2/45], Loss: 0.2041\n",
      "Epoch [17/30], Step [4/45], Loss: 0.0767\n",
      "Epoch [17/30], Step [6/45], Loss: 0.1224\n",
      "Epoch [17/30], Step [8/45], Loss: 0.0840\n",
      "Epoch [18/30], Step [2/45], Loss: 0.0915\n",
      "Epoch [18/30], Step [4/45], Loss: 0.1635\n",
      "Epoch [18/30], Step [6/45], Loss: 0.1656\n",
      "Epoch [18/30], Step [8/45], Loss: 0.0777\n",
      "Epoch [19/30], Step [2/45], Loss: 0.1208\n",
      "Epoch [19/30], Step [4/45], Loss: 0.0892\n",
      "Epoch [19/30], Step [6/45], Loss: 0.0496\n",
      "Epoch [19/30], Step [8/45], Loss: 0.0751\n",
      "Epoch [20/30], Step [2/45], Loss: 0.0861\n",
      "Epoch [20/30], Step [4/45], Loss: 0.0552\n",
      "Epoch [20/30], Step [6/45], Loss: 0.1241\n",
      "Epoch [20/30], Step [8/45], Loss: 0.1276\n",
      "Epoch [21/30], Step [2/45], Loss: 0.1021\n",
      "Epoch [21/30], Step [4/45], Loss: 0.1256\n",
      "Epoch [21/30], Step [6/45], Loss: 0.0930\n",
      "Epoch [21/30], Step [8/45], Loss: 0.0624\n",
      "Epoch [22/30], Step [2/45], Loss: 0.1094\n",
      "Epoch [22/30], Step [4/45], Loss: 0.0501\n",
      "Epoch [22/30], Step [6/45], Loss: 0.1040\n",
      "Epoch [22/30], Step [8/45], Loss: 0.0563\n",
      "Epoch [23/30], Step [2/45], Loss: 0.0691\n",
      "Epoch [23/30], Step [4/45], Loss: 0.1250\n",
      "Epoch [23/30], Step [6/45], Loss: 0.0833\n",
      "Epoch [23/30], Step [8/45], Loss: 0.0756\n",
      "Epoch [24/30], Step [2/45], Loss: 0.0641\n",
      "Epoch [24/30], Step [4/45], Loss: 0.0859\n",
      "Epoch [24/30], Step [6/45], Loss: 0.0726\n",
      "Epoch [24/30], Step [8/45], Loss: 0.0487\n",
      "Epoch [25/30], Step [2/45], Loss: 0.0573\n",
      "Epoch [25/30], Step [4/45], Loss: 0.0665\n",
      "Epoch [25/30], Step [6/45], Loss: 0.0563\n",
      "Epoch [25/30], Step [8/45], Loss: 0.0776\n",
      "Epoch [26/30], Step [2/45], Loss: 0.0670\n",
      "Epoch [26/30], Step [4/45], Loss: 0.0538\n",
      "Epoch [26/30], Step [6/45], Loss: 0.0617\n",
      "Epoch [26/30], Step [8/45], Loss: 0.0548\n",
      "Epoch [27/30], Step [2/45], Loss: 0.0576\n",
      "Epoch [27/30], Step [4/45], Loss: 0.1498\n",
      "Epoch [27/30], Step [6/45], Loss: 0.0453\n",
      "Epoch [27/30], Step [8/45], Loss: 0.0290\n",
      "Epoch [28/30], Step [2/45], Loss: 0.0448\n",
      "Epoch [28/30], Step [4/45], Loss: 0.0430\n",
      "Epoch [28/30], Step [6/45], Loss: 0.0936\n",
      "Epoch [28/30], Step [8/45], Loss: 0.0268\n",
      "Epoch [29/30], Step [2/45], Loss: 0.1008\n",
      "Epoch [29/30], Step [4/45], Loss: 0.0483\n",
      "Epoch [29/30], Step [6/45], Loss: 0.1057\n",
      "Epoch [29/30], Step [8/45], Loss: 0.0234\n",
      "Epoch [30/30], Step [2/45], Loss: 0.0205\n",
      "Epoch [30/30], Step [4/45], Loss: 0.0765\n",
      "Epoch [30/30], Step [6/45], Loss: 0.0271\n",
      "Epoch [30/30], Step [8/45], Loss: 0.0433\n"
     ]
    }
   ],
   "source": [
    "# Device configuration\n",
    "device = torch.device('cuda' if torch.cuda.is_available() else 'cpu')\n",
    "\n",
    "# parameters:\n",
    "positive_class_label = 3.0\n",
    "\n",
    "# Hyper-parameters #1\n",
    "batch_size = 20\n",
    "shuffle_dataset = True\n",
    "\n",
    "class TwoClass:\n",
    "    def __init__(self, positive_label, inplace=False):\n",
    "        self.positive_label = positive_label\n",
    "\n",
    "    def __call__(self, sample):                \n",
    "        inputs, targets = sample\n",
    "        targets_tc = torch.empty(targets.size())\n",
    "        targets_tc[targets == self.positive_label] = 1.0\n",
    "        targets_tc[targets != self.positive_label] = 0.0   \n",
    "#         print(inputs, targets_tc)\n",
    "        return inputs, targets_tc\n",
    "\n",
    "\n",
    "composed_tfms = transforms.Compose([\n",
    "            ToTensor(), \n",
    "            Normalize(wine_mean, wine_std),\n",
    "            TwoClass(positive_label=positive_class_label)\n",
    "        ])\n",
    "\n",
    "train_ds = WineDataset(transform=composed_tfms)\n",
    "train_dl = DataLoader(train_ds, batch_size=batch_size, shuffle=shuffle_dataset)\n",
    "\n",
    "\n",
    "# Get features size:\n",
    "dataiter = iter(train_dl)\n",
    "data = dataiter.next()\n",
    "# print(f'data: {data}')\n",
    "# features, labels = data\n",
    "inputs, targets = data\n",
    "\n",
    "# Hyper-parameters #2\n",
    "input_size = inputs.shape[1] # use features size\n",
    "hidden_size = 50\n",
    "num_classes = 2\n",
    "print(f'input_size:{input_size}, hidden_size:{hidden_size}, num_classes:{num_classes}')\n",
    "\n",
    "num_epochs = 30\n",
    "learning_rate = 0.001\n",
    "\n",
    "\n",
    "# print('inputs:', inputs, features.shape)\n",
    "# print('targets:', targets, targets.shape)\n",
    "# ----------\n",
    "\n",
    "# Fully connected neural network with one hidden layer\n",
    "class NNTwoClases(nn.Module):\n",
    "    def __init__(self, input_size, hidden_size):\n",
    "        super(NNTwoClases, self).__init__()\n",
    "        self.input_size = input_size\n",
    "        self.l1 = nn.Linear(input_size, hidden_size) \n",
    "        self.relu = nn.ReLU()\n",
    "        self.l2 = nn.Linear(hidden_size, 1) # класса 2 вероятность y^ - одна  \n",
    "        self.sigmoid = nn.Sigmoid()\n",
    "    \n",
    "    def forward(self, x):\n",
    "        out = self.l1(x)\n",
    "        out = self.relu(out)\n",
    "        out = self.l2(out)\n",
    "        out = self.sigmoid(out)\n",
    "        return out\n",
    "\n",
    "model = NNTwoClases(input_size, hidden_size).to(device)\n",
    "\n",
    "# Loss and optimizer\n",
    "# see: https://pytorch.org/docs/stable/nn.html#torch.nn.BCELoss\n",
    "criterion = nn.BCELoss()\n",
    "optimizer = torch.optim.Adam(model.parameters(), lr=learning_rate)      \n",
    "\n",
    "# Train the model\n",
    "n_total_steps = len(train_loader)\n",
    "for epoch in range(num_epochs):\n",
    "    for i, (inputs, targets_) in enumerate(train_dl):\n",
    "        inputs = inputs.to(device)\n",
    "        targets_ = targets_.to(device)\n",
    "        \n",
    "        # Forward pass\n",
    "        outputs = model(inputs)\n",
    "#         print(outputs, targets_)\n",
    "        loss = criterion(outputs, targets_)\n",
    "        \n",
    "        # zero grad before new step        \n",
    "        optimizer.zero_grad()                \n",
    "        # Backward and optimize        \n",
    "        loss.backward()\n",
    "        optimizer.step()\n",
    "                \n",
    "        if (i+1) % 2 == 0:\n",
    "            print (f'Epoch [{epoch+1}/{num_epochs}], Step [{i+1}/{n_total_steps}], Loss: {loss.item():.4f}')                            "
   ]
  },
  {
   "cell_type": "markdown",
   "metadata": {},
   "source": [
    "__Добавляем train/test split__:\n",
    "\n",
    "Разделим данные на training и test с использованием классов `SubsetRandomSampler` и `DataLoader`.\n",
    "\n",
    "`DataLoader` подгружает данные, предоставляемые классом `Dataset`, во время тренировки и группирует их в батчи.\n",
    "Он дает возможность указать `Sampler` (в нашем случае `SubsetRandomSampler`), который выбирает, какие примеры из датасета использовать для тренировки. Мы используем это, чтобы разделить данные на training и test.\n",
    "\n",
    "Подробнее: https://pytorch.org/tutorials/beginner/data_loading_tutorial.html"
   ]
  },
  {
   "cell_type": "code",
   "execution_count": 227,
   "metadata": {},
   "outputs": [],
   "source": [
    "# dataset = list(range(178))\n",
    "# validation_split = .2\n",
    "# random_seed= 42\n",
    "# shuffle_dataset = True\n",
    "\n",
    "# dataset_size = len(dataset)\n",
    "# indices = list(range(dataset_size))\n",
    "# split = int(np.floor(validation_split * dataset_size))\n",
    "# if shuffle_dataset :\n",
    "#     np.random.seed(random_seed)\n",
    "#     np.random.shuffle(indices)\n",
    "# train_indices, val_indices = indices[split:], indices[:split]\n",
    "\n",
    "# # train_indices, val_indices"
   ]
  },
  {
   "cell_type": "code",
   "execution_count": 548,
   "metadata": {},
   "outputs": [],
   "source": [
    "#LOAD DATA\n",
    "\n",
    "# Device configuration\n",
    "device = torch.device('cuda' if torch.cuda.is_available() else 'cpu')\n",
    "\n",
    "# parameters:\n",
    "positive_class_label = 3.0\n",
    "\n",
    "# Hyper-parameters #1\n",
    "batch_size = 20\n",
    "test_split = .2\n",
    "random_seed= 42\n",
    "shuffle_dataset = True\n",
    "\n",
    "composed_tfms = transforms.Compose([\n",
    "            ToTensor(), \n",
    "            Normalize(wine_mean, wine_std),\n",
    "            TwoClass(positive_label=positive_class_label)\n",
    "        ])\n",
    "\n",
    "dataset = WineDataset(transform=composed_tfms)\n",
    "\n",
    "# Creating data indices for training and test splits:\n",
    "dataset_size = len(dataset)\n",
    "indices = list(range(dataset_size))\n",
    "split = int(np.floor(test_split * dataset_size))\n",
    "if shuffle_dataset :\n",
    "    np.random.seed(random_seed)\n",
    "    np.random.shuffle(indices)\n",
    "    \n",
    "train_indices, test_indices = indices[split:], indices[:split]\n",
    "\n",
    "# Creating PT data samplers and loaders:\n",
    "train_sampler = SubsetRandomSampler(train_indices)\n",
    "test_sampler = SubsetRandomSampler(test_indices)\n",
    "\n",
    "train_dl = torch.utils.data.DataLoader(dataset, batch_size=batch_size, \n",
    "                                           sampler=train_sampler)\n",
    "test_dl = torch.utils.data.DataLoader(dataset, batch_size=batch_size,\n",
    "                                                sampler=test_sampler)\n",
    "\n",
    "# Get inputs(features) size:\n",
    "dataiter = iter(train_dl)\n",
    "data = dataiter.next()\n",
    "# features, labels = data\n",
    "inputs, targets = data\n",
    "# print(f'inputs: {inputs.shape}, {inputs}, targets: {targets.shape}, {targets}')\n",
    "\n",
    "# parameters:\n",
    "dataset_num_classes = 2\n",
    "dataset_input_size = inputs.shape[1]"
   ]
  },
  {
   "cell_type": "code",
   "execution_count": 549,
   "metadata": {},
   "outputs": [],
   "source": [
    "# len(train_indices), len(test_indices)"
   ]
  },
  {
   "cell_type": "code",
   "execution_count": 558,
   "metadata": {},
   "outputs": [
    {
     "name": "stdout",
     "output_type": "stream",
     "text": [
      "input_size:13, hidden_size:50, num_classes:2\n"
     ]
    }
   ],
   "source": [
    "# DEFINE MODEL\n",
    "\n",
    "# Hyper-parameters #2\n",
    "input_size = dataset_input_size # use inputs size\n",
    "hidden_size = 50 # 20 | 50\n",
    "num_classes = dataset_num_classes # 2\n",
    "print(f'input_size:{input_size}, hidden_size:{hidden_size}, num_classes:{num_classes}')\n",
    "\n",
    "num_epochs = 60\n",
    "learning_rate = 0.001\n",
    "\n",
    "# Fully connected neural network with one hidden layer\n",
    "class NNTwoClases(nn.Module):\n",
    "    def __init__(self, input_size, hidden_size):\n",
    "        super(NNTwoClases, self).__init__()\n",
    "        self.input_size = input_size\n",
    "        self.l1 = nn.Linear(input_size, hidden_size) \n",
    "        self.relu = nn.ReLU() # on|off\n",
    "        self.l2 = nn.Linear(hidden_size, 1) # класса 2 вероятность y^ - одна  \n",
    "        self.sigmoid = nn.Sigmoid()\n",
    "    \n",
    "    def forward(self, x):\n",
    "        out = self.l1(x)\n",
    "        out = self.relu(out) # on|off\n",
    "        out = self.l2(out)\n",
    "        out = self.sigmoid(out)\n",
    "        return out\n",
    "\n",
    "model = NNTwoClases(input_size, hidden_size).to(device)\n",
    "\n",
    "# Loss and optimizer\n",
    "# see: https://pytorch.org/docs/stable/nn.html#torch.nn.BCELoss\n",
    "criterion = nn.BCELoss()\n",
    "optimizer = torch.optim.Adam(model.parameters(), lr=learning_rate)      "
   ]
  },
  {
   "cell_type": "code",
   "execution_count": 559,
   "metadata": {},
   "outputs": [],
   "source": [
    "# TRAINING THE NETWORK\n",
    "def train(model, device, train_dl, optimizer):\n",
    "    #set model in train() mode:\n",
    "    model.train()\n",
    "    \n",
    "    total_loss = 0.0\n",
    "    total_samples = 0.0\n",
    "    correct_samples = 0.0\n",
    "    \n",
    "    for i, (inputs, targets) in enumerate(train_dl):\n",
    "        inputs, targets = inputs.to(device), targets.to(device)\n",
    "        \n",
    "        # Forward pass\n",
    "        outputs = model(inputs)\n",
    "        loss = criterion(outputs, targets) \n",
    "        \n",
    "        # Backward and optimize        \n",
    "        # zero grad before new step        \n",
    "        optimizer.zero_grad()                        \n",
    "        loss.backward()\n",
    "        optimizer.step()   \n",
    "\n",
    "        # calculating the total_loss for checking\n",
    "        total_loss += loss           \n",
    "        \n",
    "        # PREDICTIONS \n",
    "        total_samples += targets.shape[0]    \n",
    "        predictions = outputs.round()\n",
    "        correct_samples += torch.sum(predictions==targets)\n",
    "#         if i ==0:\n",
    "#             print(f'outputs: {outputs}, predictions:{predictions}, targets:{targets}, correct_samples:{correct_samples}')        \n",
    "        \n",
    "    train_accuracy = float(correct_samples) / total_samples        \n",
    "    \n",
    "    return total_loss, train_accuracy                                  "
   ]
  },
  {
   "cell_type": "code",
   "execution_count": 560,
   "metadata": {},
   "outputs": [],
   "source": [
    "# TESTING THE MODEL\n",
    "def test(model, device, test_dl):\n",
    "    #set model in eval() mode (it skips Dropout etc):\n",
    "    model.eval()\n",
    "    \n",
    "    total_samples = 0.0\n",
    "    correct_samples = 0.0 \n",
    "    \n",
    "    # set the requires_grad flag to false as we are in the test mode\n",
    "    with torch.no_grad():\n",
    "        for i, (inputs, targets) in enumerate(test_dl):\n",
    "            #LOAD THE DATA IN A BATCH            \n",
    "            inputs, targets = inputs.to(device), targets.to(device)            \n",
    "                       \n",
    "            # apply model to input data\n",
    "            outputs = model(inputs)        \n",
    "                       \n",
    "            #PREDICTIONS\n",
    "            total_samples += targets.shape[0]    \n",
    "            predictions = outputs.round()\n",
    "            correct_samples += torch.sum(predictions==targets)        \n",
    "        \n",
    "    test_accuracy = correct_samples / total_samples        \n",
    "    \n",
    "    return test_accuracy              "
   ]
  },
  {
   "cell_type": "code",
   "execution_count": 561,
   "metadata": {
    "scrolled": true
   },
   "outputs": [
    {
     "name": "stdout",
     "output_type": "stream",
     "text": [
      "Epoch [1/60], Loss: 5.3182, Train acc: 0.6503, Test acc: 0.7143\n",
      "Epoch [2/60], Loss: 4.7288, Train acc: 0.7762, Test acc: 0.7429\n",
      "Epoch [3/60], Loss: 4.4194, Train acc: 0.8182, Test acc: 0.7714\n",
      "Epoch [4/60], Loss: 4.0325, Train acc: 0.8601, Test acc: 0.8286\n",
      "Epoch [5/60], Loss: 3.6260, Train acc: 0.8881, Test acc: 0.9143\n",
      "Epoch [6/60], Loss: 3.6172, Train acc: 0.9021, Test acc: 0.9429\n",
      "Epoch [7/60], Loss: 3.1916, Train acc: 0.9021, Test acc: 0.9429\n",
      "Epoch [8/60], Loss: 2.9085, Train acc: 0.9091, Test acc: 0.9429\n",
      "Epoch [9/60], Loss: 2.8734, Train acc: 0.9301, Test acc: 0.9429\n",
      "Epoch [10/60], Loss: 2.5183, Train acc: 0.9371, Test acc: 0.9714\n",
      "Epoch [11/60], Loss: 2.1968, Train acc: 0.9510, Test acc: 0.9714\n",
      "Epoch [12/60], Loss: 2.0326, Train acc: 0.9580, Test acc: 0.9714\n",
      "Epoch [13/60], Loss: 1.9018, Train acc: 0.9650, Test acc: 0.9714\n",
      "Epoch [14/60], Loss: 1.7000, Train acc: 0.9650, Test acc: 0.9714\n",
      "Epoch [15/60], Loss: 1.6616, Train acc: 0.9720, Test acc: 0.9714\n",
      "Epoch [16/60], Loss: 1.5854, Train acc: 0.9790, Test acc: 0.9714\n",
      "Epoch [17/60], Loss: 1.3538, Train acc: 0.9860, Test acc: 0.9714\n",
      "Epoch [18/60], Loss: 1.1648, Train acc: 0.9860, Test acc: 0.9714\n",
      "Epoch [19/60], Loss: 1.0776, Train acc: 0.9860, Test acc: 0.9714\n",
      "Epoch [20/60], Loss: 1.1076, Train acc: 0.9860, Test acc: 0.9714\n",
      "Epoch [21/60], Loss: 0.9760, Train acc: 0.9860, Test acc: 0.9714\n",
      "Epoch [22/60], Loss: 0.8767, Train acc: 0.9860, Test acc: 0.9714\n",
      "Epoch [23/60], Loss: 1.0474, Train acc: 0.9860, Test acc: 0.9714\n",
      "Epoch [24/60], Loss: 0.9163, Train acc: 0.9860, Test acc: 0.9714\n",
      "Epoch [25/60], Loss: 0.7296, Train acc: 0.9860, Test acc: 0.9714\n",
      "Epoch [26/60], Loss: 0.7032, Train acc: 0.9860, Test acc: 0.9714\n",
      "Epoch [27/60], Loss: 0.6133, Train acc: 0.9860, Test acc: 0.9714\n",
      "Epoch [28/60], Loss: 0.5814, Train acc: 0.9860, Test acc: 0.9714\n",
      "Epoch [29/60], Loss: 0.5815, Train acc: 0.9860, Test acc: 0.9714\n",
      "Epoch [30/60], Loss: 0.5646, Train acc: 0.9860, Test acc: 0.9714\n",
      "Epoch [31/60], Loss: 0.6144, Train acc: 0.9860, Test acc: 0.9714\n",
      "Epoch [32/60], Loss: 0.4813, Train acc: 0.9860, Test acc: 0.9714\n",
      "Epoch [33/60], Loss: 0.5821, Train acc: 0.9860, Test acc: 0.9714\n",
      "Epoch [34/60], Loss: 0.4495, Train acc: 0.9860, Test acc: 1.0000\n",
      "Epoch [35/60], Loss: 0.6028, Train acc: 0.9860, Test acc: 1.0000\n",
      "Epoch [36/60], Loss: 0.4180, Train acc: 0.9930, Test acc: 1.0000\n",
      "Epoch [37/60], Loss: 0.3845, Train acc: 0.9930, Test acc: 1.0000\n",
      "Epoch [38/60], Loss: 0.5209, Train acc: 0.9930, Test acc: 1.0000\n",
      "Epoch [39/60], Loss: 0.3656, Train acc: 0.9930, Test acc: 1.0000\n",
      "Epoch [40/60], Loss: 0.3397, Train acc: 0.9930, Test acc: 1.0000\n",
      "Epoch [41/60], Loss: 0.3800, Train acc: 0.9930, Test acc: 1.0000\n",
      "Epoch [42/60], Loss: 0.3040, Train acc: 0.9930, Test acc: 1.0000\n",
      "Epoch [43/60], Loss: 0.2904, Train acc: 0.9930, Test acc: 1.0000\n",
      "Epoch [44/60], Loss: 0.2877, Train acc: 0.9930, Test acc: 1.0000\n",
      "Epoch [45/60], Loss: 0.2750, Train acc: 0.9930, Test acc: 1.0000\n",
      "Epoch [46/60], Loss: 0.3067, Train acc: 0.9930, Test acc: 1.0000\n",
      "Epoch [47/60], Loss: 0.2607, Train acc: 0.9930, Test acc: 1.0000\n",
      "Epoch [48/60], Loss: 0.2492, Train acc: 0.9930, Test acc: 1.0000\n",
      "Epoch [49/60], Loss: 0.2376, Train acc: 0.9930, Test acc: 1.0000\n",
      "Epoch [50/60], Loss: 0.2385, Train acc: 0.9930, Test acc: 1.0000\n",
      "Epoch [51/60], Loss: 0.2451, Train acc: 0.9930, Test acc: 1.0000\n",
      "Epoch [52/60], Loss: 0.2313, Train acc: 0.9930, Test acc: 1.0000\n",
      "Epoch [53/60], Loss: 0.2584, Train acc: 0.9930, Test acc: 1.0000\n",
      "Epoch [54/60], Loss: 0.2732, Train acc: 0.9930, Test acc: 1.0000\n",
      "Epoch [55/60], Loss: 0.2116, Train acc: 0.9930, Test acc: 1.0000\n",
      "Epoch [56/60], Loss: 0.1972, Train acc: 0.9930, Test acc: 1.0000\n",
      "Epoch [57/60], Loss: 0.1896, Train acc: 0.9930, Test acc: 1.0000\n",
      "Epoch [58/60], Loss: 0.1978, Train acc: 0.9930, Test acc: 1.0000\n",
      "Epoch [59/60], Loss: 0.2632, Train acc: 0.9930, Test acc: 1.0000\n",
      "Epoch [60/60], Loss: 0.1711, Train acc: 0.9930, Test acc: 1.0000\n"
     ]
    }
   ],
   "source": [
    "# Train the model\n",
    "n_total_steps = len(train_loader)\n",
    "for epoch in range(num_epochs):\n",
    "    total_loss, train_accuracy = train(model, device, train_dl, optimizer)\n",
    "    test_accuracy = test(model, device, test_dl)\n",
    "    print (f'Epoch [{epoch+1}/{num_epochs}], Loss: {total_loss:.4f}, Train acc: {train_accuracy:.4f}, Test acc: {test_accuracy:.4f}')                                    "
   ]
  },
  {
   "cell_type": "markdown",
   "metadata": {},
   "source": [
    "__Обобщение на задачу многоклассовой классификации__\n",
    "\n",
    "* <em class=\"df\"></em> Функяия __softmax__ (или _normalized exponential function_) — это обобщение логистической функции для многомерного случая. \n",
    "    * Функция преобразует вектор $\\mathbf{z}$ размерности $K$ в вектор $\\mathbf{\\sigma}$ той же размерности, где каждая координата $\\sigma_i$ полученного вектора представлена вещественным числом в интервале $[0,1]$:\n",
    "$$\\mathbf{\\sigma}(\\mathbf{z})_i = \\frac{e^{z_i}}{\\displaystyle\\sum_{k \\mathop =1}^K e^{z_k}}$$\n",
    "    * Легко показать, что:\n",
    "        * сумма координат равна $\\sum_{k \\mathop =1}^K \\mathbf{\\sigma}(\\mathbf{z})_k = 1$.\n",
    "        * и каждое из значений $\\sigma(\\mathbf{z})_i \\in [0,1]$.\n",
    "    * Таким образом, функция берет на вход вектор $\\mathbf{z}$ содержащий значения, которые могут выходить за интервал $[0,1]$ преобразуя их вектор $\\mathbf{\\sigma}$, который может рассматриваться как вероятности $K$ значений дискретной случайной величины.\n",
    "    * При этом, наибольшее значение среди $K$ компонент вектора $\\mathbf{z}$ осатется наибольшей в векторе $\\mathbf{\\sigma}$ (соотношение максимального компонента к остальным увеличвиается т.к.: $\\mathbf{\\sigma}(\\mathbf{z})_i/\\mathbf{\\sigma}(\\mathbf{z})_j = e^{z_i-z_j}>1$, если $z_i>z_j$\n",
    "\n",
    "\n",
    "* Применяя softmax в функции потерь negative log-likelihood получим:\n",
    "\n",
    "$$\\mathcal{L} = - \\sum_i p_i \\log q_i = - \\sum_{n=1}^N \\sum_{k=1}^K t_{nk}\\ln y_{nk} = - \\sum_{n=1}^N \\sum_{k=1}^K t_{nk} \\frac{e^{z_{nk}}}{\\displaystyle\\sum_{i \\mathop =1}^K e^{z_{ni}}}= - \\sum_{n=1}^N \\frac{e^{z_{n k(n)}}}{\\displaystyle\\sum_{i \\mathop =1}^K e^{z_{ni}}}$$\n",
    "\n",
    "где, при использовании ленейной функции преобразования входного вектора $\\mathbf{x}$ в $z$, имеем $z_{nk} = \\sigma(\\mathbf{w}_k\\cdot\\mathbf{x}_n) $"
   ]
  },
  {
   "cell_type": "code",
   "execution_count": 564,
   "metadata": {},
   "outputs": [],
   "source": [
    "#LOAD DATA\n",
    "\n",
    "# Device configuration\n",
    "device = torch.device('cuda' if torch.cuda.is_available() else 'cpu')\n",
    "\n",
    "# Hyper-parameters #1\n",
    "batch_size = 20\n",
    "validation_split = .2\n",
    "random_seed= 42\n",
    "shuffle_dataset = True\n",
    "\n",
    "composed_tfms = transforms.Compose([\n",
    "            ToTensor(), \n",
    "            Normalize(wine_mean, wine_std) # without TwoClass\n",
    "        ])\n",
    "\n",
    "dataset = WineDataset(transform=composed_tfms)\n",
    "\n",
    "# Creating data indices for training and test splits:\n",
    "dataset_size = len(dataset)\n",
    "indices = list(range(dataset_size))\n",
    "split = int(np.floor(validation_split * dataset_size))\n",
    "if shuffle_dataset :\n",
    "    np.random.seed(random_seed)\n",
    "    np.random.shuffle(indices)\n",
    "    \n",
    "train_indices, test_indices = indices[split:], indices[:split]\n",
    "\n",
    "# Creating PT data samplers and loaders:\n",
    "train_sampler = SubsetRandomSampler(train_indices)\n",
    "test_sampler = SubsetRandomSampler(test_indices)\n",
    "\n",
    "train_dl = torch.utils.data.DataLoader(dataset, batch_size=batch_size, \n",
    "                                           sampler=train_sampler)\n",
    "test_dl = torch.utils.data.DataLoader(dataset, batch_size=batch_size,\n",
    "                                                sampler=test_sampler)\n",
    "\n",
    "# Get inputs(features) size:\n",
    "dataiter = iter(train_dl)\n",
    "data = dataiter.next()\n",
    "# features, labels = data\n",
    "inputs, targets = data\n",
    "# print(f'inputs: {inputs.shape}, {inputs}, targets: {targets.shape}, {targets}')\n",
    "\n",
    "# parameters:\n",
    "dataset_num_classes = 3\n",
    "dataset_input_size = inputs.shape[1]"
   ]
  },
  {
   "cell_type": "markdown",
   "metadata": {},
   "source": [
    "----\n",
    "__Решаем задачу многоклассовой классификации__\n",
    "\n",
    "* Используем CrossEntropyLoss: https://pytorch.org/docs/stable/nn.html#crossentropyloss\n",
    "    * This criterion combines `nn.LogSoftmax()` and `nn.NLLLoss()` in one single class.\n",
    "    * Input: (N, C)(N,C) where C = number of classes\n",
    "    * Target: (N)(N) where each value is 0 \\leq \\text{targets}[i] \\leq C-10≤targets[i]≤C−1\n",
    "    * Default: `reduction='mean'`"
   ]
  },
  {
   "cell_type": "code",
   "execution_count": 565,
   "metadata": {},
   "outputs": [
    {
     "name": "stdout",
     "output_type": "stream",
     "text": [
      "input_size:13, hidden_size:50, num_classes:3\n"
     ]
    }
   ],
   "source": [
    "# DEFINE MODEL\n",
    "\n",
    "# Hyper-parameters #2\n",
    "input_size = dataset_input_size # use inputs(features) size\n",
    "hidden_size = 50 \n",
    "num_classes = dataset_num_classes # (не можем получить из минибатча)\n",
    "print(f'input_size:{input_size}, hidden_size:{hidden_size}, num_classes:{num_classes}')\n",
    "\n",
    "num_epochs = 60\n",
    "learning_rate = 0.001\n",
    "\n",
    "# Fully connected neural network with one hidden layer\n",
    "class NClases(nn.Module):\n",
    "    def __init__(self, input_size, hidden_size, num_classes): # new parameter: num_classes\n",
    "        super(NClases, self).__init__()\n",
    "        self.input_size = input_size\n",
    "        self.l1 = nn.Linear(input_size, hidden_size) \n",
    "        self.relu = nn.ReLU() # on|off\n",
    "        self.l2 = nn.Linear(hidden_size, num_classes)\n",
    "        \n",
    "    def forward(self, x):\n",
    "        out = self.l1(x)\n",
    "        out = self.relu(out) # on|off\n",
    "        out = self.l2(out)\n",
    "        # no activation and no softmax at the end        \n",
    "        return out\n",
    "\n",
    "model = NClases(input_size, hidden_size, num_classes).to(device)\n",
    "\n",
    "# Loss and optimizer\n",
    "# criterion = nn.BCELoss()\n",
    "criterion = nn.CrossEntropyLoss()\n",
    "optimizer = torch.optim.Adam(model.parameters(), lr=learning_rate)      "
   ]
  },
  {
   "cell_type": "markdown",
   "metadata": {},
   "source": [
    "* `torch.max()`: `torch.max(input, dim, keepdim=False, out=None) -> (Tensor, LongTensor)`\n",
    "    * parameters:\n",
    "        * `input (Tensor)` – the input tensor.\n",
    "        * `dim (int)` – the dimension to reduce.\n",
    "        * `keepdim (bool)` – whether the output tensor has dim retained or not. Default: False.\n",
    "        * `out (tuple, optional)` – the result tuple of two output tensors (max, max_indices)\n",
    "    * returns namedtuple `(values, indices)`\n",
    "        *  `values` is the maximum value of each row of the input tensor in the given dimension dim. \n",
    "        *  `indices` is the index location of each maximum value found (argmax)."
   ]
  },
  {
   "cell_type": "code",
   "execution_count": 566,
   "metadata": {},
   "outputs": [],
   "source": [
    "# TRAINING THE NETWORK\n",
    "def train(model, device, train_dl, optimizer):\n",
    "    #set model in train() mode:\n",
    "    model.train()\n",
    "    \n",
    "    total_loss = 0.0\n",
    "    total_samples = 0.0\n",
    "    correct_samples = 0.0\n",
    "    \n",
    "    for i, (inputs, targets) in enumerate(train_dl):\n",
    "        inputs, targets = inputs.to(device), targets.to(device)\n",
    "        targets = targets.squeeze().to(torch.long)-1 # target mast be 1-D tensor\n",
    "        \n",
    "        # Forward pass\n",
    "        outputs = model(inputs)\n",
    "        loss = criterion(outputs, targets.squeeze()) \n",
    "        \n",
    "        # Backward and optimize        \n",
    "        # zero grad before new step        \n",
    "        optimizer.zero_grad()                        \n",
    "        loss.backward()\n",
    "        optimizer.step()   \n",
    "\n",
    "        # calculating the total_loss for checking\n",
    "        total_loss += loss           \n",
    "        \n",
    "        # PREDICTIONS \n",
    "        total_samples += targets.shape[0]   \n",
    "        _, predictions_indices = torch.max(outputs, 1) # dim=1 - dimension to reduce\n",
    "        correct_samples += torch.sum(predictions_indices==targets)\n",
    "#         if i == 0:\n",
    "#             print(f'outputs: {outputs}, predictions_indices:{predictions_indices}, \\\n",
    "#             targets:{targets}, correct_samples:{correct_samples}, total_samples: {total_samples}')        \n",
    "        \n",
    "    train_accuracy = float(correct_samples) / total_samples        \n",
    "    \n",
    "    return total_loss, train_accuracy                                  "
   ]
  },
  {
   "cell_type": "code",
   "execution_count": 567,
   "metadata": {},
   "outputs": [],
   "source": [
    "# TESTING THE MODEL\n",
    "def test(model, device, test_dl):\n",
    "    #set model in eval() mode (it skips Dropout etc):\n",
    "    model.eval()\n",
    "    \n",
    "    total_samples = 0.0\n",
    "    correct_samples = 0.0 \n",
    "    \n",
    "    # set the requires_grad flag to false as we are in the test mode\n",
    "    with torch.no_grad():\n",
    "        for i, (inputs, targets) in enumerate(test_dl):\n",
    "            #LOAD THE DATA IN A BATCH            \n",
    "            inputs, targets = inputs.to(device), targets.to(device)   \n",
    "            targets = targets.squeeze().to(torch.long)-1 # target mast be 1-D tensor           \n",
    "                       \n",
    "            # apply model to input data\n",
    "            outputs = model(inputs)        \n",
    "                       \n",
    "            #PREDICTIONS\n",
    "            total_samples += targets.shape[0]   \n",
    "            _, predictions_indices = torch.max(outputs, 1) # dim=1 - dimension to reduce\n",
    "            correct_samples += torch.sum(predictions_indices==targets)                    \n",
    "        \n",
    "    test_accuracy = correct_samples / total_samples        \n",
    "    \n",
    "    return test_accuracy              "
   ]
  },
  {
   "cell_type": "code",
   "execution_count": 568,
   "metadata": {
    "scrolled": true
   },
   "outputs": [
    {
     "name": "stdout",
     "output_type": "stream",
     "text": [
      "Epoch [1/60], Loss: 8.3143, Train acc: 0.4825, Test acc: 0.7429\n",
      "Epoch [2/60], Loss: 7.3919, Train acc: 0.8042, Test acc: 0.8571\n",
      "Epoch [3/60], Loss: 6.5464, Train acc: 0.8951, Test acc: 0.8571\n",
      "Epoch [4/60], Loss: 5.7520, Train acc: 0.9091, Test acc: 0.8571\n",
      "Epoch [5/60], Loss: 5.3157, Train acc: 0.9091, Test acc: 0.9143\n",
      "Epoch [6/60], Loss: 4.9220, Train acc: 0.9231, Test acc: 0.9143\n",
      "Epoch [7/60], Loss: 4.4294, Train acc: 0.9371, Test acc: 0.9429\n",
      "Epoch [8/60], Loss: 3.9253, Train acc: 0.9510, Test acc: 0.9429\n",
      "Epoch [9/60], Loss: 3.3911, Train acc: 0.9510, Test acc: 0.9429\n",
      "Epoch [10/60], Loss: 3.2573, Train acc: 0.9510, Test acc: 0.9429\n",
      "Epoch [11/60], Loss: 2.9671, Train acc: 0.9580, Test acc: 0.9429\n",
      "Epoch [12/60], Loss: 2.5127, Train acc: 0.9580, Test acc: 0.9429\n",
      "Epoch [13/60], Loss: 2.3189, Train acc: 0.9650, Test acc: 0.9429\n",
      "Epoch [14/60], Loss: 2.0299, Train acc: 0.9650, Test acc: 0.9714\n",
      "Epoch [15/60], Loss: 1.8149, Train acc: 0.9650, Test acc: 0.9714\n",
      "Epoch [16/60], Loss: 1.6294, Train acc: 0.9720, Test acc: 0.9714\n",
      "Epoch [17/60], Loss: 1.5068, Train acc: 0.9790, Test acc: 0.9714\n",
      "Epoch [18/60], Loss: 1.3995, Train acc: 0.9790, Test acc: 0.9714\n",
      "Epoch [19/60], Loss: 1.5434, Train acc: 0.9790, Test acc: 0.9714\n",
      "Epoch [20/60], Loss: 1.1413, Train acc: 0.9790, Test acc: 0.9714\n",
      "Epoch [21/60], Loss: 1.0740, Train acc: 0.9930, Test acc: 0.9714\n",
      "Epoch [22/60], Loss: 0.9510, Train acc: 0.9930, Test acc: 0.9714\n",
      "Epoch [23/60], Loss: 0.9937, Train acc: 0.9930, Test acc: 0.9714\n",
      "Epoch [24/60], Loss: 0.8519, Train acc: 0.9930, Test acc: 0.9714\n",
      "Epoch [25/60], Loss: 0.8046, Train acc: 0.9930, Test acc: 0.9714\n",
      "Epoch [26/60], Loss: 0.7866, Train acc: 0.9930, Test acc: 0.9714\n",
      "Epoch [27/60], Loss: 0.6915, Train acc: 0.9930, Test acc: 0.9714\n",
      "Epoch [28/60], Loss: 0.8683, Train acc: 0.9930, Test acc: 0.9714\n",
      "Epoch [29/60], Loss: 0.6122, Train acc: 0.9930, Test acc: 0.9714\n",
      "Epoch [30/60], Loss: 0.5680, Train acc: 0.9930, Test acc: 0.9714\n",
      "Epoch [31/60], Loss: 0.5934, Train acc: 0.9930, Test acc: 0.9714\n",
      "Epoch [32/60], Loss: 0.5233, Train acc: 0.9930, Test acc: 0.9714\n",
      "Epoch [33/60], Loss: 0.5782, Train acc: 0.9930, Test acc: 0.9714\n",
      "Epoch [34/60], Loss: 0.5733, Train acc: 0.9930, Test acc: 0.9714\n",
      "Epoch [35/60], Loss: 0.4481, Train acc: 0.9930, Test acc: 0.9714\n",
      "Epoch [36/60], Loss: 0.4487, Train acc: 0.9930, Test acc: 0.9714\n",
      "Epoch [37/60], Loss: 0.4287, Train acc: 0.9930, Test acc: 0.9714\n",
      "Epoch [38/60], Loss: 0.4102, Train acc: 0.9930, Test acc: 0.9714\n",
      "Epoch [39/60], Loss: 0.3772, Train acc: 0.9930, Test acc: 0.9714\n",
      "Epoch [40/60], Loss: 0.3884, Train acc: 0.9930, Test acc: 0.9714\n",
      "Epoch [41/60], Loss: 0.3468, Train acc: 0.9930, Test acc: 1.0000\n",
      "Epoch [42/60], Loss: 0.3500, Train acc: 0.9930, Test acc: 1.0000\n",
      "Epoch [43/60], Loss: 0.3413, Train acc: 0.9930, Test acc: 1.0000\n",
      "Epoch [44/60], Loss: 0.3111, Train acc: 0.9930, Test acc: 1.0000\n",
      "Epoch [45/60], Loss: 0.3136, Train acc: 0.9930, Test acc: 1.0000\n",
      "Epoch [46/60], Loss: 0.2900, Train acc: 0.9930, Test acc: 1.0000\n",
      "Epoch [47/60], Loss: 0.2830, Train acc: 0.9930, Test acc: 1.0000\n",
      "Epoch [48/60], Loss: 0.2791, Train acc: 0.9930, Test acc: 1.0000\n",
      "Epoch [49/60], Loss: 0.4991, Train acc: 0.9930, Test acc: 1.0000\n",
      "Epoch [50/60], Loss: 0.3454, Train acc: 0.9930, Test acc: 1.0000\n",
      "Epoch [51/60], Loss: 0.2493, Train acc: 1.0000, Test acc: 1.0000\n",
      "Epoch [52/60], Loss: 0.2378, Train acc: 1.0000, Test acc: 1.0000\n",
      "Epoch [53/60], Loss: 0.2398, Train acc: 1.0000, Test acc: 1.0000\n",
      "Epoch [54/60], Loss: 0.2458, Train acc: 1.0000, Test acc: 1.0000\n",
      "Epoch [55/60], Loss: 0.2351, Train acc: 1.0000, Test acc: 1.0000\n",
      "Epoch [56/60], Loss: 0.2439, Train acc: 1.0000, Test acc: 1.0000\n",
      "Epoch [57/60], Loss: 0.2046, Train acc: 1.0000, Test acc: 1.0000\n",
      "Epoch [58/60], Loss: 0.2022, Train acc: 1.0000, Test acc: 1.0000\n",
      "Epoch [59/60], Loss: 0.1882, Train acc: 1.0000, Test acc: 1.0000\n",
      "Epoch [60/60], Loss: 0.2012, Train acc: 1.0000, Test acc: 1.0000\n"
     ]
    }
   ],
   "source": [
    "# Train the model\n",
    "n_total_steps = len(train_loader)\n",
    "for epoch in range(num_epochs):\n",
    "    total_loss, train_accuracy = train(model, device, train_dl, optimizer)\n",
    "    test_accuracy = test(model, device, test_dl)\n",
    "    print (f'Epoch [{epoch+1}/{num_epochs}], Loss: {total_loss:.4f}, Train acc: {train_accuracy:.4f}, Test acc: {test_accuracy:.4f}')                                    "
   ]
  },
  {
   "cell_type": "markdown",
   "metadata": {},
   "source": [
    "----\n",
    "__Многоклассовая классификация на датасете MNIST__\n",
    "\n",
    "https://en.wikipedia.org/wiki/MNIST_database\n",
    "\n",
    "<center>     \n",
    "    <img src=\"./img03/MnistExamples.png\" alt=\"Примеры изображений из MNIST\" style=\"width: 500px;\"/>\n",
    "    <strong>Примеры изображений из MNIST</strong>\n",
    "</center>"
   ]
  },
  {
   "cell_type": "code",
   "execution_count": 572,
   "metadata": {},
   "outputs": [],
   "source": [
    "#LOAD DATA\n",
    "\n",
    "# Device configuration\n",
    "device = torch.device('cuda' if torch.cuda.is_available() else 'cpu')\n",
    "\n",
    "# parameters:\n",
    "positive_class_label = 3.0\n",
    "\n",
    "# Hyper-parameters #1\n",
    "batch_size = 100 # big batches\n",
    "validation_split = .2\n",
    "random_seed= 42\n",
    "shuffle_dataset = True\n",
    "\n",
    "# MNIST dataset \n",
    "train_dataset = torchvision.datasets.MNIST(root='./data', \n",
    "                                           train=True, \n",
    "                                           transform=transforms.ToTensor(),  \n",
    "                                           download=True)\n",
    "\n",
    "train_batch_qty = math.ceil(len(train_dataset)/batch_size)\n",
    "\n",
    "test_dataset = torchvision.datasets.MNIST(root='./data', \n",
    "                                          train=False, \n",
    "                                          transform=transforms.ToTensor())\n",
    "test_batch_qty = math.ceil(len(test_dataset)/batch_size)\n",
    "\n",
    "# Data loader\n",
    "train_dl = torch.utils.data.DataLoader(dataset=train_dataset, \n",
    "                                           batch_size=batch_size, \n",
    "                                           shuffle=shuffle_dataset)\n",
    "\n",
    "test_dl = torch.utils.data.DataLoader(dataset=test_dataset, \n",
    "                                          batch_size=batch_size, \n",
    "                                          shuffle=False)\n",
    "\n",
    "# # Get inputs(features) size:\n",
    "# dataiter = iter(train_dl)\n",
    "# data = dataiter.next()\n",
    "# # features, labels = data\n",
    "# inputs, targets = data\n",
    "# # print(f'inputs: {inputs.shape}, {inputs}, targets: {targets.shape}, {targets}')\n",
    "\n",
    "# parameters:\n",
    "dataset_num_classes = 10\n",
    "# dataset_input_size = inputs.shape[1]\n",
    "dataset_input_size = 28 * 28 # 28x28=784"
   ]
  },
  {
   "cell_type": "code",
   "execution_count": 573,
   "metadata": {
    "scrolled": true
   },
   "outputs": [
    {
     "name": "stdout",
     "output_type": "stream",
     "text": [
      "input_size:784, hidden_size:500, num_classes:10\n"
     ]
    }
   ],
   "source": [
    "# DEFINE MODEL\n",
    "\n",
    "# Hyper-parameters #2\n",
    "input_size = dataset_input_size # use inputs(features) size\n",
    "hidden_size = 500 \n",
    "num_classes = dataset_num_classes # (не можем получить из минибатча)\n",
    "print(f'input_size:{input_size}, hidden_size:{hidden_size}, num_classes:{num_classes}')\n",
    "\n",
    "num_epochs = 10\n",
    "learning_rate = 0.001\n",
    "\n",
    "# Create fully connected neural network with one hidden layer:\n",
    "model = NClases(input_size, hidden_size, num_classes).to(device)\n",
    "\n",
    "# Loss and optimizer\n",
    "# criterion = nn.BCELoss()\n",
    "criterion = nn.CrossEntropyLoss()\n",
    "optimizer = torch.optim.Adam(model.parameters(), lr=learning_rate)      "
   ]
  },
  {
   "cell_type": "code",
   "execution_count": 574,
   "metadata": {},
   "outputs": [],
   "source": [
    "#  tqdm import tqdm\n",
    "# import tqdm.notebook.tqdm\n",
    "from tqdm.notebook import tqdm\n",
    "import sys"
   ]
  },
  {
   "cell_type": "code",
   "execution_count": 575,
   "metadata": {},
   "outputs": [
    {
     "data": {
      "application/vnd.jupyter.widget-view+json": {
       "model_id": "f003ecd533dc4d3db54b8b8a218e3e60",
       "version_major": 2,
       "version_minor": 0
      },
      "text/plain": [
       "HBox(children=(FloatProgress(value=0.0), HTML(value='')))"
      ]
     },
     "metadata": {},
     "output_type": "display_data"
    },
    {
     "name": "stdout",
     "output_type": "stream",
     "text": [
      "\n"
     ]
    }
   ],
   "source": [
    "for i in tqdm(range(100)):\n",
    "    time.sleep(0.03)"
   ]
  },
  {
   "cell_type": "code",
   "execution_count": 576,
   "metadata": {},
   "outputs": [],
   "source": [
    "# TRAINING THE NETWORK\n",
    "def train(model, device, train_dl, optimizer):\n",
    "    #set model in train() mode:\n",
    "    model.train()\n",
    "    \n",
    "    total_loss = 0.0\n",
    "    total_samples = 0.0\n",
    "    correct_samples = 0.0\n",
    "    \n",
    "    for i, (inputs, targets) in tqdm(enumerate(train_dl), total=train_batch_qty, desc='Training minibatch loop '):\n",
    "        inputs, targets = inputs.to(device), targets.to(device)        \n",
    "        inputs = inputs.reshape(-1, 28*28).to(device)\n",
    "#         print(inputs.size(), targets.size(), targets)\n",
    "#         assert False\n",
    "        \n",
    "        # Forward pass\n",
    "        outputs = model(inputs)\n",
    "        loss = criterion(outputs, targets.squeeze()) \n",
    "        \n",
    "        # Backward and optimize        \n",
    "        # zero grad before new step        \n",
    "        optimizer.zero_grad()                        \n",
    "        loss.backward()\n",
    "        optimizer.step()   \n",
    "\n",
    "        # calculating the total_loss for checking\n",
    "        total_loss += loss           \n",
    "        \n",
    "        # PREDICTIONS \n",
    "        total_samples += targets.shape[0]   \n",
    "        _, predictions_indices = torch.max(outputs, 1) # dim=1 - dimension to reduce\n",
    "        correct_samples += torch.sum(predictions_indices==targets)\n",
    "#         if i == 0:\n",
    "#             print(f'outputs: {outputs}, predictions_indices:{predictions_indices}, \\\n",
    "#             targets:{targets}, correct_samples:{correct_samples}, total_samples: {total_samples}')        \n",
    "        \n",
    "    train_accuracy = float(correct_samples) / total_samples        \n",
    "    \n",
    "    return total_loss, train_accuracy                                  "
   ]
  },
  {
   "cell_type": "code",
   "execution_count": 577,
   "metadata": {},
   "outputs": [],
   "source": [
    "# TESTING THE MODEL\n",
    "def test(model, device, test_dl):\n",
    "    #set model in eval() mode (it skips Dropout etc):\n",
    "    model.eval()\n",
    "    \n",
    "    total_samples = 0.0\n",
    "    correct_samples = 0.0 \n",
    "    \n",
    "    # set the requires_grad flag to false as we are in the test mode\n",
    "    with torch.no_grad():\n",
    "        for i, (inputs, targets) in tqdm(enumerate(test_dl), total=test_batch_qty, desc='Testing minibatch loop:'):\n",
    "            #LOAD THE DATA IN A BATCH                       \n",
    "            inputs, targets = inputs.to(device), targets.to(device)        \n",
    "            inputs = inputs.reshape(-1, 28*28).to(device)            \n",
    "                       \n",
    "            # apply model to input data\n",
    "            outputs = model(inputs)        \n",
    "                       \n",
    "            #PREDICTIONS\n",
    "            total_samples += targets.shape[0]   \n",
    "            _, predictions_indices = torch.max(outputs, 1) # dim=1 - dimension to reduce\n",
    "            correct_samples += torch.sum(predictions_indices==targets)                    \n",
    "        \n",
    "    test_accuracy = correct_samples / total_samples        \n",
    "    \n",
    "    return test_accuracy              "
   ]
  },
  {
   "cell_type": "code",
   "execution_count": 578,
   "metadata": {},
   "outputs": [
    {
     "data": {
      "application/vnd.jupyter.widget-view+json": {
       "model_id": "2b9b4f21f59b4cc5b9b03f63f639cad3",
       "version_major": 2,
       "version_minor": 0
      },
      "text/plain": [
       "HBox(children=(FloatProgress(value=0.0, description='Training minibatch loop ', max=600.0, style=ProgressStyle…"
      ]
     },
     "metadata": {},
     "output_type": "display_data"
    },
    {
     "name": "stdout",
     "output_type": "stream",
     "text": [
      "\n"
     ]
    },
    {
     "data": {
      "application/vnd.jupyter.widget-view+json": {
       "model_id": "fe890657233e490c8067651167a266d5",
       "version_major": 2,
       "version_minor": 0
      },
      "text/plain": [
       "HBox(children=(FloatProgress(value=0.0, description='Testing minibatch loop:', style=ProgressStyle(description…"
      ]
     },
     "metadata": {},
     "output_type": "display_data"
    },
    {
     "name": "stdout",
     "output_type": "stream",
     "text": [
      "\n",
      "Epoch [1/10], Loss: 173.0010, Train acc: 0.9209, Test acc: 0.9581\n"
     ]
    },
    {
     "data": {
      "application/vnd.jupyter.widget-view+json": {
       "model_id": "469b32117e144e9a9ac272cbe765169d",
       "version_major": 2,
       "version_minor": 0
      },
      "text/plain": [
       "HBox(children=(FloatProgress(value=0.0, description='Training minibatch loop ', max=600.0, style=ProgressStyle…"
      ]
     },
     "metadata": {},
     "output_type": "display_data"
    },
    {
     "name": "stdout",
     "output_type": "stream",
     "text": [
      "\n"
     ]
    },
    {
     "data": {
      "application/vnd.jupyter.widget-view+json": {
       "model_id": "a17bf9f514fd426fa393a119a52caf9b",
       "version_major": 2,
       "version_minor": 0
      },
      "text/plain": [
       "HBox(children=(FloatProgress(value=0.0, description='Testing minibatch loop:', style=ProgressStyle(description…"
      ]
     },
     "metadata": {},
     "output_type": "display_data"
    },
    {
     "name": "stdout",
     "output_type": "stream",
     "text": [
      "\n",
      "Epoch [2/10], Loss: 69.2540, Train acc: 0.9667, Test acc: 0.9677\n"
     ]
    },
    {
     "data": {
      "application/vnd.jupyter.widget-view+json": {
       "model_id": "bb8fd14cad4d43ea9f368b46850d69b5",
       "version_major": 2,
       "version_minor": 0
      },
      "text/plain": [
       "HBox(children=(FloatProgress(value=0.0, description='Training minibatch loop ', max=600.0, style=ProgressStyle…"
      ]
     },
     "metadata": {},
     "output_type": "display_data"
    },
    {
     "name": "stdout",
     "output_type": "stream",
     "text": [
      "\n"
     ]
    },
    {
     "data": {
      "application/vnd.jupyter.widget-view+json": {
       "model_id": "8b9fff32537e46b68adc659f6385998c",
       "version_major": 2,
       "version_minor": 0
      },
      "text/plain": [
       "HBox(children=(FloatProgress(value=0.0, description='Testing minibatch loop:', style=ProgressStyle(description…"
      ]
     },
     "metadata": {},
     "output_type": "display_data"
    },
    {
     "name": "stdout",
     "output_type": "stream",
     "text": [
      "\n",
      "Epoch [3/10], Loss: 45.8252, Train acc: 0.9775, Test acc: 0.9750\n"
     ]
    },
    {
     "data": {
      "application/vnd.jupyter.widget-view+json": {
       "model_id": "7a64c2d2160f43299d34d67d0a0e504d",
       "version_major": 2,
       "version_minor": 0
      },
      "text/plain": [
       "HBox(children=(FloatProgress(value=0.0, description='Training minibatch loop ', max=600.0, style=ProgressStyle…"
      ]
     },
     "metadata": {},
     "output_type": "display_data"
    },
    {
     "name": "stdout",
     "output_type": "stream",
     "text": [
      "\n"
     ]
    },
    {
     "data": {
      "application/vnd.jupyter.widget-view+json": {
       "model_id": "47fe1263bd0c4ac793eb8df814b62316",
       "version_major": 2,
       "version_minor": 0
      },
      "text/plain": [
       "HBox(children=(FloatProgress(value=0.0, description='Testing minibatch loop:', style=ProgressStyle(description…"
      ]
     },
     "metadata": {},
     "output_type": "display_data"
    },
    {
     "name": "stdout",
     "output_type": "stream",
     "text": [
      "\n",
      "Epoch [4/10], Loss: 33.1776, Train acc: 0.9836, Test acc: 0.9778\n"
     ]
    },
    {
     "data": {
      "application/vnd.jupyter.widget-view+json": {
       "model_id": "520ac4f1b7614d01a8e25bb15735f377",
       "version_major": 2,
       "version_minor": 0
      },
      "text/plain": [
       "HBox(children=(FloatProgress(value=0.0, description='Training minibatch loop ', max=600.0, style=ProgressStyle…"
      ]
     },
     "metadata": {},
     "output_type": "display_data"
    },
    {
     "name": "stdout",
     "output_type": "stream",
     "text": [
      "\n"
     ]
    },
    {
     "data": {
      "application/vnd.jupyter.widget-view+json": {
       "model_id": "6d68d91828dc4c22a380e1ccf08156a1",
       "version_major": 2,
       "version_minor": 0
      },
      "text/plain": [
       "HBox(children=(FloatProgress(value=0.0, description='Testing minibatch loop:', style=ProgressStyle(description…"
      ]
     },
     "metadata": {},
     "output_type": "display_data"
    },
    {
     "name": "stdout",
     "output_type": "stream",
     "text": [
      "\n",
      "Epoch [5/10], Loss: 24.6944, Train acc: 0.9879, Test acc: 0.9802\n"
     ]
    },
    {
     "data": {
      "application/vnd.jupyter.widget-view+json": {
       "model_id": "cff6cee8a5e443abbbfbb9e335f60013",
       "version_major": 2,
       "version_minor": 0
      },
      "text/plain": [
       "HBox(children=(FloatProgress(value=0.0, description='Training minibatch loop ', max=600.0, style=ProgressStyle…"
      ]
     },
     "metadata": {},
     "output_type": "display_data"
    },
    {
     "name": "stdout",
     "output_type": "stream",
     "text": [
      "\n"
     ]
    },
    {
     "data": {
      "application/vnd.jupyter.widget-view+json": {
       "model_id": "c3d21fc10a9943ca9df4050fc45614b4",
       "version_major": 2,
       "version_minor": 0
      },
      "text/plain": [
       "HBox(children=(FloatProgress(value=0.0, description='Testing minibatch loop:', style=ProgressStyle(description…"
      ]
     },
     "metadata": {},
     "output_type": "display_data"
    },
    {
     "name": "stdout",
     "output_type": "stream",
     "text": [
      "\n",
      "Epoch [6/10], Loss: 18.2698, Train acc: 0.9908, Test acc: 0.9805\n"
     ]
    },
    {
     "data": {
      "application/vnd.jupyter.widget-view+json": {
       "model_id": "a73fe1d898d24ca3a5fe6ab1ffe85457",
       "version_major": 2,
       "version_minor": 0
      },
      "text/plain": [
       "HBox(children=(FloatProgress(value=0.0, description='Training minibatch loop ', max=600.0, style=ProgressStyle…"
      ]
     },
     "metadata": {},
     "output_type": "display_data"
    },
    {
     "name": "stdout",
     "output_type": "stream",
     "text": [
      "\n"
     ]
    },
    {
     "data": {
      "application/vnd.jupyter.widget-view+json": {
       "model_id": "ac0618f73fde4b028ed2b9e51dd86258",
       "version_major": 2,
       "version_minor": 0
      },
      "text/plain": [
       "HBox(children=(FloatProgress(value=0.0, description='Testing minibatch loop:', style=ProgressStyle(description…"
      ]
     },
     "metadata": {},
     "output_type": "display_data"
    },
    {
     "name": "stdout",
     "output_type": "stream",
     "text": [
      "\n",
      "Epoch [7/10], Loss: 14.0210, Train acc: 0.9935, Test acc: 0.9782\n"
     ]
    },
    {
     "data": {
      "application/vnd.jupyter.widget-view+json": {
       "model_id": "3953467cfa48475a83fae7529faf3ddc",
       "version_major": 2,
       "version_minor": 0
      },
      "text/plain": [
       "HBox(children=(FloatProgress(value=0.0, description='Training minibatch loop ', max=600.0, style=ProgressStyle…"
      ]
     },
     "metadata": {},
     "output_type": "display_data"
    },
    {
     "ename": "KeyboardInterrupt",
     "evalue": "",
     "output_type": "error",
     "traceback": [
      "\u001b[1;31m---------------------------------------------------------------------------\u001b[0m",
      "\u001b[1;31mKeyboardInterrupt\u001b[0m                         Traceback (most recent call last)",
      "\u001b[1;32m<ipython-input-578-2213afe389ab>\u001b[0m in \u001b[0;36m<module>\u001b[1;34m\u001b[0m\n\u001b[0;32m      2\u001b[0m \u001b[0mn_total_steps\u001b[0m \u001b[1;33m=\u001b[0m \u001b[0mlen\u001b[0m\u001b[1;33m(\u001b[0m\u001b[0mtrain_loader\u001b[0m\u001b[1;33m)\u001b[0m\u001b[1;33m\u001b[0m\u001b[1;33m\u001b[0m\u001b[0m\n\u001b[0;32m      3\u001b[0m \u001b[1;32mfor\u001b[0m \u001b[0mepoch\u001b[0m \u001b[1;32min\u001b[0m \u001b[0mrange\u001b[0m\u001b[1;33m(\u001b[0m\u001b[0mnum_epochs\u001b[0m\u001b[1;33m)\u001b[0m\u001b[1;33m:\u001b[0m\u001b[1;33m\u001b[0m\u001b[1;33m\u001b[0m\u001b[0m\n\u001b[1;32m----> 4\u001b[1;33m     \u001b[0mtotal_loss\u001b[0m\u001b[1;33m,\u001b[0m \u001b[0mtrain_accuracy\u001b[0m \u001b[1;33m=\u001b[0m \u001b[0mtrain\u001b[0m\u001b[1;33m(\u001b[0m\u001b[0mmodel\u001b[0m\u001b[1;33m,\u001b[0m \u001b[0mdevice\u001b[0m\u001b[1;33m,\u001b[0m \u001b[0mtrain_dl\u001b[0m\u001b[1;33m,\u001b[0m \u001b[0moptimizer\u001b[0m\u001b[1;33m)\u001b[0m\u001b[1;33m\u001b[0m\u001b[1;33m\u001b[0m\u001b[0m\n\u001b[0m\u001b[0;32m      5\u001b[0m     \u001b[0mtest_accuracy\u001b[0m \u001b[1;33m=\u001b[0m \u001b[0mtest\u001b[0m\u001b[1;33m(\u001b[0m\u001b[0mmodel\u001b[0m\u001b[1;33m,\u001b[0m \u001b[0mdevice\u001b[0m\u001b[1;33m,\u001b[0m \u001b[0mtest_dl\u001b[0m\u001b[1;33m)\u001b[0m\u001b[1;33m\u001b[0m\u001b[1;33m\u001b[0m\u001b[0m\n\u001b[0;32m      6\u001b[0m     \u001b[0mprint\u001b[0m \u001b[1;33m(\u001b[0m\u001b[1;34mf'Epoch [{epoch+1}/{num_epochs}], Loss: {total_loss:.4f}, Train acc: {train_accuracy:.4f}, Test acc: {test_accuracy:.4f}'\u001b[0m\u001b[1;33m)\u001b[0m\u001b[1;33m\u001b[0m\u001b[1;33m\u001b[0m\u001b[0m\n",
      "\u001b[1;32m<ipython-input-576-8f19e7113f14>\u001b[0m in \u001b[0;36mtrain\u001b[1;34m(model, device, train_dl, optimizer)\u001b[0m\n\u001b[0;32m      8\u001b[0m     \u001b[0mcorrect_samples\u001b[0m \u001b[1;33m=\u001b[0m \u001b[1;36m0.0\u001b[0m\u001b[1;33m\u001b[0m\u001b[1;33m\u001b[0m\u001b[0m\n\u001b[0;32m      9\u001b[0m \u001b[1;33m\u001b[0m\u001b[0m\n\u001b[1;32m---> 10\u001b[1;33m     \u001b[1;32mfor\u001b[0m \u001b[0mi\u001b[0m\u001b[1;33m,\u001b[0m \u001b[1;33m(\u001b[0m\u001b[0minputs\u001b[0m\u001b[1;33m,\u001b[0m \u001b[0mtargets\u001b[0m\u001b[1;33m)\u001b[0m \u001b[1;32min\u001b[0m \u001b[0mtqdm\u001b[0m\u001b[1;33m(\u001b[0m\u001b[0menumerate\u001b[0m\u001b[1;33m(\u001b[0m\u001b[0mtrain_dl\u001b[0m\u001b[1;33m)\u001b[0m\u001b[1;33m,\u001b[0m \u001b[0mtotal\u001b[0m\u001b[1;33m=\u001b[0m\u001b[0mtrain_batch_qty\u001b[0m\u001b[1;33m,\u001b[0m \u001b[0mdesc\u001b[0m\u001b[1;33m=\u001b[0m\u001b[1;34m'Training minibatch loop '\u001b[0m\u001b[1;33m)\u001b[0m\u001b[1;33m:\u001b[0m\u001b[1;33m\u001b[0m\u001b[1;33m\u001b[0m\u001b[0m\n\u001b[0m\u001b[0;32m     11\u001b[0m         \u001b[0minputs\u001b[0m\u001b[1;33m,\u001b[0m \u001b[0mtargets\u001b[0m \u001b[1;33m=\u001b[0m \u001b[0minputs\u001b[0m\u001b[1;33m.\u001b[0m\u001b[0mto\u001b[0m\u001b[1;33m(\u001b[0m\u001b[0mdevice\u001b[0m\u001b[1;33m)\u001b[0m\u001b[1;33m,\u001b[0m \u001b[0mtargets\u001b[0m\u001b[1;33m.\u001b[0m\u001b[0mto\u001b[0m\u001b[1;33m(\u001b[0m\u001b[0mdevice\u001b[0m\u001b[1;33m)\u001b[0m\u001b[1;33m\u001b[0m\u001b[1;33m\u001b[0m\u001b[0m\n\u001b[0;32m     12\u001b[0m         \u001b[0minputs\u001b[0m \u001b[1;33m=\u001b[0m \u001b[0minputs\u001b[0m\u001b[1;33m.\u001b[0m\u001b[0mreshape\u001b[0m\u001b[1;33m(\u001b[0m\u001b[1;33m-\u001b[0m\u001b[1;36m1\u001b[0m\u001b[1;33m,\u001b[0m \u001b[1;36m28\u001b[0m\u001b[1;33m*\u001b[0m\u001b[1;36m28\u001b[0m\u001b[1;33m)\u001b[0m\u001b[1;33m.\u001b[0m\u001b[0mto\u001b[0m\u001b[1;33m(\u001b[0m\u001b[0mdevice\u001b[0m\u001b[1;33m)\u001b[0m\u001b[1;33m\u001b[0m\u001b[1;33m\u001b[0m\u001b[0m\n",
      "\u001b[1;32m~\\.conda\\envs\\pyTorch_1_5v2\\lib\\site-packages\\tqdm\\notebook.py\u001b[0m in \u001b[0;36m__iter__\u001b[1;34m(self, *args, **kwargs)\u001b[0m\n\u001b[0;32m    215\u001b[0m     \u001b[1;32mdef\u001b[0m \u001b[0m__iter__\u001b[0m\u001b[1;33m(\u001b[0m\u001b[0mself\u001b[0m\u001b[1;33m,\u001b[0m \u001b[1;33m*\u001b[0m\u001b[0margs\u001b[0m\u001b[1;33m,\u001b[0m \u001b[1;33m**\u001b[0m\u001b[0mkwargs\u001b[0m\u001b[1;33m)\u001b[0m\u001b[1;33m:\u001b[0m\u001b[1;33m\u001b[0m\u001b[1;33m\u001b[0m\u001b[0m\n\u001b[0;32m    216\u001b[0m         \u001b[1;32mtry\u001b[0m\u001b[1;33m:\u001b[0m\u001b[1;33m\u001b[0m\u001b[1;33m\u001b[0m\u001b[0m\n\u001b[1;32m--> 217\u001b[1;33m             \u001b[1;32mfor\u001b[0m \u001b[0mobj\u001b[0m \u001b[1;32min\u001b[0m \u001b[0msuper\u001b[0m\u001b[1;33m(\u001b[0m\u001b[0mtqdm_notebook\u001b[0m\u001b[1;33m,\u001b[0m \u001b[0mself\u001b[0m\u001b[1;33m)\u001b[0m\u001b[1;33m.\u001b[0m\u001b[0m__iter__\u001b[0m\u001b[1;33m(\u001b[0m\u001b[1;33m*\u001b[0m\u001b[0margs\u001b[0m\u001b[1;33m,\u001b[0m \u001b[1;33m**\u001b[0m\u001b[0mkwargs\u001b[0m\u001b[1;33m)\u001b[0m\u001b[1;33m:\u001b[0m\u001b[1;33m\u001b[0m\u001b[1;33m\u001b[0m\u001b[0m\n\u001b[0m\u001b[0;32m    218\u001b[0m                 \u001b[1;31m# return super(tqdm...) will not catch exception\u001b[0m\u001b[1;33m\u001b[0m\u001b[1;33m\u001b[0m\u001b[1;33m\u001b[0m\u001b[0m\n\u001b[0;32m    219\u001b[0m                 \u001b[1;32myield\u001b[0m \u001b[0mobj\u001b[0m\u001b[1;33m\u001b[0m\u001b[1;33m\u001b[0m\u001b[0m\n",
      "\u001b[1;32m~\\.conda\\envs\\pyTorch_1_5v2\\lib\\site-packages\\tqdm\\std.py\u001b[0m in \u001b[0;36m__iter__\u001b[1;34m(self)\u001b[0m\n\u001b[0;32m   1105\u001b[0m                 fp_write=getattr(self.fp, 'write', sys.stderr.write))\n\u001b[0;32m   1106\u001b[0m \u001b[1;33m\u001b[0m\u001b[0m\n\u001b[1;32m-> 1107\u001b[1;33m         \u001b[1;32mfor\u001b[0m \u001b[0mobj\u001b[0m \u001b[1;32min\u001b[0m \u001b[0miterable\u001b[0m\u001b[1;33m:\u001b[0m\u001b[1;33m\u001b[0m\u001b[1;33m\u001b[0m\u001b[0m\n\u001b[0m\u001b[0;32m   1108\u001b[0m             \u001b[1;32myield\u001b[0m \u001b[0mobj\u001b[0m\u001b[1;33m\u001b[0m\u001b[1;33m\u001b[0m\u001b[0m\n\u001b[0;32m   1109\u001b[0m             \u001b[1;31m# Update and possibly print the progressbar.\u001b[0m\u001b[1;33m\u001b[0m\u001b[1;33m\u001b[0m\u001b[1;33m\u001b[0m\u001b[0m\n",
      "\u001b[1;32m~\\.conda\\envs\\pyTorch_1_5v2\\lib\\site-packages\\torch\\utils\\data\\dataloader.py\u001b[0m in \u001b[0;36m__next__\u001b[1;34m(self)\u001b[0m\n\u001b[0;32m    343\u001b[0m \u001b[1;33m\u001b[0m\u001b[0m\n\u001b[0;32m    344\u001b[0m     \u001b[1;32mdef\u001b[0m \u001b[0m__next__\u001b[0m\u001b[1;33m(\u001b[0m\u001b[0mself\u001b[0m\u001b[1;33m)\u001b[0m\u001b[1;33m:\u001b[0m\u001b[1;33m\u001b[0m\u001b[1;33m\u001b[0m\u001b[0m\n\u001b[1;32m--> 345\u001b[1;33m         \u001b[0mdata\u001b[0m \u001b[1;33m=\u001b[0m \u001b[0mself\u001b[0m\u001b[1;33m.\u001b[0m\u001b[0m_next_data\u001b[0m\u001b[1;33m(\u001b[0m\u001b[1;33m)\u001b[0m\u001b[1;33m\u001b[0m\u001b[1;33m\u001b[0m\u001b[0m\n\u001b[0m\u001b[0;32m    346\u001b[0m         \u001b[0mself\u001b[0m\u001b[1;33m.\u001b[0m\u001b[0m_num_yielded\u001b[0m \u001b[1;33m+=\u001b[0m \u001b[1;36m1\u001b[0m\u001b[1;33m\u001b[0m\u001b[1;33m\u001b[0m\u001b[0m\n\u001b[0;32m    347\u001b[0m         \u001b[1;32mif\u001b[0m \u001b[0mself\u001b[0m\u001b[1;33m.\u001b[0m\u001b[0m_dataset_kind\u001b[0m \u001b[1;33m==\u001b[0m \u001b[0m_DatasetKind\u001b[0m\u001b[1;33m.\u001b[0m\u001b[0mIterable\u001b[0m \u001b[1;32mand\u001b[0m\u001b[0;31m \u001b[0m\u001b[0;31m\\\u001b[0m\u001b[1;33m\u001b[0m\u001b[1;33m\u001b[0m\u001b[0m\n",
      "\u001b[1;32m~\\.conda\\envs\\pyTorch_1_5v2\\lib\\site-packages\\torch\\utils\\data\\dataloader.py\u001b[0m in \u001b[0;36m_next_data\u001b[1;34m(self)\u001b[0m\n\u001b[0;32m    383\u001b[0m     \u001b[1;32mdef\u001b[0m \u001b[0m_next_data\u001b[0m\u001b[1;33m(\u001b[0m\u001b[0mself\u001b[0m\u001b[1;33m)\u001b[0m\u001b[1;33m:\u001b[0m\u001b[1;33m\u001b[0m\u001b[1;33m\u001b[0m\u001b[0m\n\u001b[0;32m    384\u001b[0m         \u001b[0mindex\u001b[0m \u001b[1;33m=\u001b[0m \u001b[0mself\u001b[0m\u001b[1;33m.\u001b[0m\u001b[0m_next_index\u001b[0m\u001b[1;33m(\u001b[0m\u001b[1;33m)\u001b[0m  \u001b[1;31m# may raise StopIteration\u001b[0m\u001b[1;33m\u001b[0m\u001b[1;33m\u001b[0m\u001b[0m\n\u001b[1;32m--> 385\u001b[1;33m         \u001b[0mdata\u001b[0m \u001b[1;33m=\u001b[0m \u001b[0mself\u001b[0m\u001b[1;33m.\u001b[0m\u001b[0m_dataset_fetcher\u001b[0m\u001b[1;33m.\u001b[0m\u001b[0mfetch\u001b[0m\u001b[1;33m(\u001b[0m\u001b[0mindex\u001b[0m\u001b[1;33m)\u001b[0m  \u001b[1;31m# may raise StopIteration\u001b[0m\u001b[1;33m\u001b[0m\u001b[1;33m\u001b[0m\u001b[0m\n\u001b[0m\u001b[0;32m    386\u001b[0m         \u001b[1;32mif\u001b[0m \u001b[0mself\u001b[0m\u001b[1;33m.\u001b[0m\u001b[0m_pin_memory\u001b[0m\u001b[1;33m:\u001b[0m\u001b[1;33m\u001b[0m\u001b[1;33m\u001b[0m\u001b[0m\n\u001b[0;32m    387\u001b[0m             \u001b[0mdata\u001b[0m \u001b[1;33m=\u001b[0m \u001b[0m_utils\u001b[0m\u001b[1;33m.\u001b[0m\u001b[0mpin_memory\u001b[0m\u001b[1;33m.\u001b[0m\u001b[0mpin_memory\u001b[0m\u001b[1;33m(\u001b[0m\u001b[0mdata\u001b[0m\u001b[1;33m)\u001b[0m\u001b[1;33m\u001b[0m\u001b[1;33m\u001b[0m\u001b[0m\n",
      "\u001b[1;32m~\\.conda\\envs\\pyTorch_1_5v2\\lib\\site-packages\\torch\\utils\\data\\_utils\\fetch.py\u001b[0m in \u001b[0;36mfetch\u001b[1;34m(self, possibly_batched_index)\u001b[0m\n\u001b[0;32m     42\u001b[0m     \u001b[1;32mdef\u001b[0m \u001b[0mfetch\u001b[0m\u001b[1;33m(\u001b[0m\u001b[0mself\u001b[0m\u001b[1;33m,\u001b[0m \u001b[0mpossibly_batched_index\u001b[0m\u001b[1;33m)\u001b[0m\u001b[1;33m:\u001b[0m\u001b[1;33m\u001b[0m\u001b[1;33m\u001b[0m\u001b[0m\n\u001b[0;32m     43\u001b[0m         \u001b[1;32mif\u001b[0m \u001b[0mself\u001b[0m\u001b[1;33m.\u001b[0m\u001b[0mauto_collation\u001b[0m\u001b[1;33m:\u001b[0m\u001b[1;33m\u001b[0m\u001b[1;33m\u001b[0m\u001b[0m\n\u001b[1;32m---> 44\u001b[1;33m             \u001b[0mdata\u001b[0m \u001b[1;33m=\u001b[0m \u001b[1;33m[\u001b[0m\u001b[0mself\u001b[0m\u001b[1;33m.\u001b[0m\u001b[0mdataset\u001b[0m\u001b[1;33m[\u001b[0m\u001b[0midx\u001b[0m\u001b[1;33m]\u001b[0m \u001b[1;32mfor\u001b[0m \u001b[0midx\u001b[0m \u001b[1;32min\u001b[0m \u001b[0mpossibly_batched_index\u001b[0m\u001b[1;33m]\u001b[0m\u001b[1;33m\u001b[0m\u001b[1;33m\u001b[0m\u001b[0m\n\u001b[0m\u001b[0;32m     45\u001b[0m         \u001b[1;32melse\u001b[0m\u001b[1;33m:\u001b[0m\u001b[1;33m\u001b[0m\u001b[1;33m\u001b[0m\u001b[0m\n\u001b[0;32m     46\u001b[0m             \u001b[0mdata\u001b[0m \u001b[1;33m=\u001b[0m \u001b[0mself\u001b[0m\u001b[1;33m.\u001b[0m\u001b[0mdataset\u001b[0m\u001b[1;33m[\u001b[0m\u001b[0mpossibly_batched_index\u001b[0m\u001b[1;33m]\u001b[0m\u001b[1;33m\u001b[0m\u001b[1;33m\u001b[0m\u001b[0m\n",
      "\u001b[1;32m~\\.conda\\envs\\pyTorch_1_5v2\\lib\\site-packages\\torch\\utils\\data\\_utils\\fetch.py\u001b[0m in \u001b[0;36m<listcomp>\u001b[1;34m(.0)\u001b[0m\n\u001b[0;32m     42\u001b[0m     \u001b[1;32mdef\u001b[0m \u001b[0mfetch\u001b[0m\u001b[1;33m(\u001b[0m\u001b[0mself\u001b[0m\u001b[1;33m,\u001b[0m \u001b[0mpossibly_batched_index\u001b[0m\u001b[1;33m)\u001b[0m\u001b[1;33m:\u001b[0m\u001b[1;33m\u001b[0m\u001b[1;33m\u001b[0m\u001b[0m\n\u001b[0;32m     43\u001b[0m         \u001b[1;32mif\u001b[0m \u001b[0mself\u001b[0m\u001b[1;33m.\u001b[0m\u001b[0mauto_collation\u001b[0m\u001b[1;33m:\u001b[0m\u001b[1;33m\u001b[0m\u001b[1;33m\u001b[0m\u001b[0m\n\u001b[1;32m---> 44\u001b[1;33m             \u001b[0mdata\u001b[0m \u001b[1;33m=\u001b[0m \u001b[1;33m[\u001b[0m\u001b[0mself\u001b[0m\u001b[1;33m.\u001b[0m\u001b[0mdataset\u001b[0m\u001b[1;33m[\u001b[0m\u001b[0midx\u001b[0m\u001b[1;33m]\u001b[0m \u001b[1;32mfor\u001b[0m \u001b[0midx\u001b[0m \u001b[1;32min\u001b[0m \u001b[0mpossibly_batched_index\u001b[0m\u001b[1;33m]\u001b[0m\u001b[1;33m\u001b[0m\u001b[1;33m\u001b[0m\u001b[0m\n\u001b[0m\u001b[0;32m     45\u001b[0m         \u001b[1;32melse\u001b[0m\u001b[1;33m:\u001b[0m\u001b[1;33m\u001b[0m\u001b[1;33m\u001b[0m\u001b[0m\n\u001b[0;32m     46\u001b[0m             \u001b[0mdata\u001b[0m \u001b[1;33m=\u001b[0m \u001b[0mself\u001b[0m\u001b[1;33m.\u001b[0m\u001b[0mdataset\u001b[0m\u001b[1;33m[\u001b[0m\u001b[0mpossibly_batched_index\u001b[0m\u001b[1;33m]\u001b[0m\u001b[1;33m\u001b[0m\u001b[1;33m\u001b[0m\u001b[0m\n",
      "\u001b[1;32m~\\.conda\\envs\\pyTorch_1_5v2\\lib\\site-packages\\torchvision\\datasets\\mnist.py\u001b[0m in \u001b[0;36m__getitem__\u001b[1;34m(self, index)\u001b[0m\n\u001b[0;32m     95\u001b[0m \u001b[1;33m\u001b[0m\u001b[0m\n\u001b[0;32m     96\u001b[0m         \u001b[1;32mif\u001b[0m \u001b[0mself\u001b[0m\u001b[1;33m.\u001b[0m\u001b[0mtransform\u001b[0m \u001b[1;32mis\u001b[0m \u001b[1;32mnot\u001b[0m \u001b[1;32mNone\u001b[0m\u001b[1;33m:\u001b[0m\u001b[1;33m\u001b[0m\u001b[1;33m\u001b[0m\u001b[0m\n\u001b[1;32m---> 97\u001b[1;33m             \u001b[0mimg\u001b[0m \u001b[1;33m=\u001b[0m \u001b[0mself\u001b[0m\u001b[1;33m.\u001b[0m\u001b[0mtransform\u001b[0m\u001b[1;33m(\u001b[0m\u001b[0mimg\u001b[0m\u001b[1;33m)\u001b[0m\u001b[1;33m\u001b[0m\u001b[1;33m\u001b[0m\u001b[0m\n\u001b[0m\u001b[0;32m     98\u001b[0m \u001b[1;33m\u001b[0m\u001b[0m\n\u001b[0;32m     99\u001b[0m         \u001b[1;32mif\u001b[0m \u001b[0mself\u001b[0m\u001b[1;33m.\u001b[0m\u001b[0mtarget_transform\u001b[0m \u001b[1;32mis\u001b[0m \u001b[1;32mnot\u001b[0m \u001b[1;32mNone\u001b[0m\u001b[1;33m:\u001b[0m\u001b[1;33m\u001b[0m\u001b[1;33m\u001b[0m\u001b[0m\n",
      "\u001b[1;32m~\\.conda\\envs\\pyTorch_1_5v2\\lib\\site-packages\\torchvision\\transforms\\transforms.py\u001b[0m in \u001b[0;36m__call__\u001b[1;34m(self, pic)\u001b[0m\n\u001b[0;32m     90\u001b[0m             \u001b[0mTensor\u001b[0m\u001b[1;33m:\u001b[0m \u001b[0mConverted\u001b[0m \u001b[0mimage\u001b[0m\u001b[1;33m.\u001b[0m\u001b[1;33m\u001b[0m\u001b[1;33m\u001b[0m\u001b[0m\n\u001b[0;32m     91\u001b[0m         \"\"\"\n\u001b[1;32m---> 92\u001b[1;33m         \u001b[1;32mreturn\u001b[0m \u001b[0mF\u001b[0m\u001b[1;33m.\u001b[0m\u001b[0mto_tensor\u001b[0m\u001b[1;33m(\u001b[0m\u001b[0mpic\u001b[0m\u001b[1;33m)\u001b[0m\u001b[1;33m\u001b[0m\u001b[1;33m\u001b[0m\u001b[0m\n\u001b[0m\u001b[0;32m     93\u001b[0m \u001b[1;33m\u001b[0m\u001b[0m\n\u001b[0;32m     94\u001b[0m     \u001b[1;32mdef\u001b[0m \u001b[0m__repr__\u001b[0m\u001b[1;33m(\u001b[0m\u001b[0mself\u001b[0m\u001b[1;33m)\u001b[0m\u001b[1;33m:\u001b[0m\u001b[1;33m\u001b[0m\u001b[1;33m\u001b[0m\u001b[0m\n",
      "\u001b[1;32m~\\.conda\\envs\\pyTorch_1_5v2\\lib\\site-packages\\torchvision\\transforms\\functional.py\u001b[0m in \u001b[0;36mto_tensor\u001b[1;34m(pic)\u001b[0m\n\u001b[0;32m     78\u001b[0m     \u001b[0mimg\u001b[0m \u001b[1;33m=\u001b[0m \u001b[0mimg\u001b[0m\u001b[1;33m.\u001b[0m\u001b[0mpermute\u001b[0m\u001b[1;33m(\u001b[0m\u001b[1;33m(\u001b[0m\u001b[1;36m2\u001b[0m\u001b[1;33m,\u001b[0m \u001b[1;36m0\u001b[0m\u001b[1;33m,\u001b[0m \u001b[1;36m1\u001b[0m\u001b[1;33m)\u001b[0m\u001b[1;33m)\u001b[0m\u001b[1;33m.\u001b[0m\u001b[0mcontiguous\u001b[0m\u001b[1;33m(\u001b[0m\u001b[1;33m)\u001b[0m\u001b[1;33m\u001b[0m\u001b[1;33m\u001b[0m\u001b[0m\n\u001b[0;32m     79\u001b[0m     \u001b[1;32mif\u001b[0m \u001b[0misinstance\u001b[0m\u001b[1;33m(\u001b[0m\u001b[0mimg\u001b[0m\u001b[1;33m,\u001b[0m \u001b[0mtorch\u001b[0m\u001b[1;33m.\u001b[0m\u001b[0mByteTensor\u001b[0m\u001b[1;33m)\u001b[0m\u001b[1;33m:\u001b[0m\u001b[1;33m\u001b[0m\u001b[1;33m\u001b[0m\u001b[0m\n\u001b[1;32m---> 80\u001b[1;33m         \u001b[1;32mreturn\u001b[0m \u001b[0mimg\u001b[0m\u001b[1;33m.\u001b[0m\u001b[0mfloat\u001b[0m\u001b[1;33m(\u001b[0m\u001b[1;33m)\u001b[0m\u001b[1;33m.\u001b[0m\u001b[0mdiv\u001b[0m\u001b[1;33m(\u001b[0m\u001b[1;36m255\u001b[0m\u001b[1;33m)\u001b[0m\u001b[1;33m\u001b[0m\u001b[1;33m\u001b[0m\u001b[0m\n\u001b[0m\u001b[0;32m     81\u001b[0m     \u001b[1;32melse\u001b[0m\u001b[1;33m:\u001b[0m\u001b[1;33m\u001b[0m\u001b[1;33m\u001b[0m\u001b[0m\n\u001b[0;32m     82\u001b[0m         \u001b[1;32mreturn\u001b[0m \u001b[0mimg\u001b[0m\u001b[1;33m\u001b[0m\u001b[1;33m\u001b[0m\u001b[0m\n",
      "\u001b[1;31mKeyboardInterrupt\u001b[0m: "
     ]
    }
   ],
   "source": [
    "# Train the model\n",
    "n_total_steps = len(train_loader)\n",
    "for epoch in range(num_epochs):\n",
    "    total_loss, train_accuracy = train(model, device, train_dl, optimizer)\n",
    "    test_accuracy = test(model, device, test_dl)\n",
    "    print (f'Epoch [{epoch+1}/{num_epochs}], Loss: {total_loss:.4f}, Train acc: {train_accuracy:.4f}, Test acc: {test_accuracy:.4f}')                                    "
   ]
  },
  {
   "cell_type": "code",
   "execution_count": null,
   "metadata": {},
   "outputs": [],
   "source": []
  }
 ],
 "metadata": {
  "kernelspec": {
   "display_name": "Python 3 (ipykernel)",
   "language": "python",
   "name": "python3"
  },
  "language_info": {
   "codemirror_mode": {
    "name": "ipython",
    "version": 3
   },
   "file_extension": ".py",
   "mimetype": "text/x-python",
   "name": "python",
   "nbconvert_exporter": "python",
   "pygments_lexer": "ipython3",
   "version": "3.9.13"
  }
 },
 "nbformat": 4,
 "nbformat_minor": 4
}
