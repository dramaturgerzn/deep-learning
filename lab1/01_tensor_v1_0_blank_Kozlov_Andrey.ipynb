{
 "cells": [
  {
   "cell_type": "markdown",
   "metadata": {
    "id": "_gE94V3G1RCx"
   },
   "source": [
    "# 01. Знакомство с `torch.Tensor`\n",
    "\n",
    "V 0.1 04.02.2021"
   ]
  },
  {
   "cell_type": "markdown",
   "metadata": {
    "id": "TlWOXn0f1RC7"
   },
   "source": [
    "---"
   ]
  },
  {
   "cell_type": "markdown",
   "metadata": {
    "id": "lZfJ1FRM1RC8"
   },
   "source": [
    "При решении данных задач не подразумевается использования циклов или генераторов Python, если в задании не сказано обратного. Решение должно опираться на использование функционала библиотеки `torch`.\n",
    "\n",
    "[PyTorch documentation](https://pytorch.org/docs/stable/#pytorch-documentation)"
   ]
  },
  {
   "cell_type": "code",
   "execution_count": 2,
   "metadata": {},
   "outputs": [
    {
     "name": "stdout",
     "output_type": "stream",
     "text": [
      "Collecting torch\n",
      "  Downloading torch-2.0.1-cp39-cp39-win_amd64.whl (172.4 MB)\n",
      "     -------------------------------------- 172.4/172.4 MB 2.1 MB/s eta 0:00:00\n",
      "Requirement already satisfied: filelock in c:\\users\\drama\\anaconda3\\lib\\site-packages (from torch) (3.6.0)\n",
      "Requirement already satisfied: jinja2 in c:\\users\\drama\\anaconda3\\lib\\site-packages (from torch) (2.11.3)\n",
      "Requirement already satisfied: sympy in c:\\users\\drama\\anaconda3\\lib\\site-packages (from torch) (1.10.1)\n",
      "Requirement already satisfied: typing-extensions in c:\\users\\drama\\anaconda3\\lib\\site-packages (from torch) (4.7.1)\n",
      "Requirement already satisfied: networkx in c:\\users\\drama\\anaconda3\\lib\\site-packages (from torch) (2.8.4)\n",
      "Requirement already satisfied: MarkupSafe>=0.23 in c:\\users\\drama\\anaconda3\\lib\\site-packages (from jinja2->torch) (2.0.1)\n",
      "Requirement already satisfied: mpmath>=0.19 in c:\\users\\drama\\anaconda3\\lib\\site-packages (from sympy->torch) (1.2.1)\n",
      "Installing collected packages: torch\n",
      "Successfully installed torch-2.0.1\n"
     ]
    }
   ],
   "source": [
    "!pip install torch"
   ]
  },
  {
   "cell_type": "code",
   "execution_count": 1,
   "metadata": {
    "id": "b3AW8rF-1RC9"
   },
   "outputs": [],
   "source": [
    "import torch"
   ]
  },
  {
   "cell_type": "code",
   "execution_count": null,
   "metadata": {},
   "outputs": [],
   "source": []
  },
  {
   "cell_type": "markdown",
   "metadata": {
    "id": "vow49PuE1RC9"
   },
   "source": [
    "## 1.1 Создание тензоров и выполнение базовых операций над ними\n",
    "\n",
    "[Документация по функциям для создания тензоров](https://pytorch.org/docs/stable/torch.html#creation-ops)\n",
    "\n",
    "[Документация по функциям для работы с индексами](https://pytorch.org/docs/stable/torch.html#indexing-slicing-joining-mutating-ops)"
   ]
  },
  {
   "cell_type": "markdown",
   "metadata": {
    "id": "wBIwO1SB1RC-"
   },
   "source": [
    "1.1.1 Создайте двумерный тензор размера (8, 8). Используя как можно меньше операций, добейтесь расстановки кодов \"шахматных фигур\".\n",
    "\n",
    "Ожидаемый результат:\n",
    "\n",
    "```\n",
    "[[-4., -3., -2., -6., -5., -2., -3., -4.],\n",
    " [-1., -1., -1., -1., -1., -1., -1., -1.],\n",
    " [0., 0., 0., 0., 0., 0., 0., 0.],\n",
    " [0., 0., 0., 0., 0., 0., 0., 0.],\n",
    " [0., 0., 0., 0., 0., 0., 0., 0.],\n",
    " [0., 0., 0., 0., 0., 0., 0., 0.],\n",
    " [1., 1., 1., 1., 1., 1., 1., 1.],\n",
    " [4., 3., 2., 6., 5., 2., 3., 4.]]\n",
    "\n",
    "```"
   ]
  },
  {
   "cell_type": "code",
   "execution_count": 16,
   "metadata": {},
   "outputs": [
    {
     "data": {
      "text/plain": [
       "tensor([[-4., -3., -2., -6., -5., -2., -3., -4.],\n",
       "        [-1., -1., -1., -1., -1., -1., -1., -1.],\n",
       "        [ 0.,  0.,  0.,  0.,  0.,  0.,  0.,  0.],\n",
       "        [ 0.,  0.,  0.,  0.,  0.,  0.,  0.,  0.],\n",
       "        [ 0.,  0.,  0.,  0.,  0.,  0.,  0.,  0.],\n",
       "        [ 0.,  0.,  0.,  0.,  0.,  0.,  0.,  0.],\n",
       "        [ 1.,  1.,  1.,  1.,  1.,  1.,  1.,  1.],\n",
       "        [ 4.,  3.,  2.,  6.,  5.,  2.,  3.,  4.]])"
      ]
     },
     "execution_count": 16,
     "metadata": {},
     "output_type": "execute_result"
    }
   ],
   "source": [
    "chessboard = torch.tensor([\n",
    "    [-4., -3., -2., -6., -5., -2., -3., -4.],\n",
    "    [-1., -1., -1., -1., -1., -1., -1., -1.],\n",
    "    [0., 0., 0., 0., 0., 0., 0., 0.],\n",
    "    [0., 0., 0., 0., 0., 0., 0., 0.],\n",
    "    [0., 0., 0., 0., 0., 0., 0., 0.],\n",
    "    [0., 0., 0., 0., 0., 0., 0., 0.],\n",
    "    [1., 1., 1., 1., 1., 1., 1., 1.],\n",
    "    [4., 3., 2., 6., 5., 2., 3., 4.]\n",
    "], dtype=torch.float32)\n",
    "\n",
    "chessboard"
   ]
  },
  {
   "cell_type": "markdown",
   "metadata": {
    "id": "20x5RE1V1RC_"
   },
   "source": [
    "1.1.2 Средствами `torch` рассчитать произведения четных чисел от 2 до 20 на ближайшие к ним бОльшие нечетные числа."
   ]
  },
  {
   "cell_type": "code",
   "execution_count": 18,
   "metadata": {},
   "outputs": [
    {
     "data": {
      "text/plain": [
       "tensor([  6,  20,  42,  72, 110, 156, 210, 272, 342, 420])"
      ]
     },
     "execution_count": 18,
     "metadata": {},
     "output_type": "execute_result"
    }
   ],
   "source": [
    "even_numbers = torch.arange(2, 21, 2)\n",
    "odd_numbers = even_numbers + 1\n",
    "proizv = even_numbers * odd_numbers\n",
    "proizv"
   ]
  },
  {
   "cell_type": "markdown",
   "metadata": {
    "id": "N_-t5GRM1RC_"
   },
   "source": [
    "1.1.3 Создать тензор размера 11x7 вида: [[1, 2, 3, ..., 7], [11, 12, 13, ..., 17], [21, 22, 23, ..., 27], ..., [101, 102, 103, ..., 107]]"
   ]
  },
  {
   "cell_type": "code",
   "execution_count": 14,
   "metadata": {},
   "outputs": [
    {
     "data": {
      "text/plain": [
       "tensor([[  1,   2,   3,   4,   5,   6,   7],\n",
       "        [ 11,  12,  13,  14,  15,  16,  17],\n",
       "        [ 21,  22,  23,  24,  25,  26,  27],\n",
       "        [ 31,  32,  33,  34,  35,  36,  37],\n",
       "        [ 41,  42,  43,  44,  45,  46,  47],\n",
       "        [ 51,  52,  53,  54,  55,  56,  57],\n",
       "        [ 61,  62,  63,  64,  65,  66,  67],\n",
       "        [ 71,  72,  73,  74,  75,  76,  77],\n",
       "        [ 81,  82,  83,  84,  85,  86,  87],\n",
       "        [ 91,  92,  93,  94,  95,  96,  97],\n",
       "        [101, 102, 103, 104, 105, 106, 107]])"
      ]
     },
     "execution_count": 14,
     "metadata": {},
     "output_type": "execute_result"
    }
   ],
   "source": [
    "a = torch.arange(1,111)\n",
    "a = a.reshape((11, -1))\n",
    "a[:,:7]\n"
   ]
  },
  {
   "cell_type": "markdown",
   "metadata": {
    "id": "oxVeUiHR1RC_"
   },
   "source": [
    "1.1.4 Написать функцию, которая для целых значений `n` и `m` будет возвращать тензор размера `n`x`m`, заполненный текстурой размера 2x2, состоящей из следующих значений:\n",
    "\n",
    "```\n",
    "0 1\n",
    "\n",
    "2 3\n",
    "\n",
    "```\n",
    "\n",
    "Пример для n = 4 и m = 5:\n",
    "\n",
    "```\n",
    "0 1 0 1 0\n",
    "\n",
    "2 3 2 3 2\n",
    "\n",
    "0 1 0 1 0\n",
    "\n",
    "2 3 2 3 2\n",
    "```"
   ]
  },
  {
   "cell_type": "code",
   "execution_count": 30,
   "metadata": {},
   "outputs": [
    {
     "name": "stdout",
     "output_type": "stream",
     "text": [
      "tensor([[0, 1, 0, 1, 0],\n",
      "        [2, 3, 2, 3, 2],\n",
      "        [0, 1, 0, 1, 0],\n",
      "        [2, 3, 2, 3, 2]], dtype=torch.int32)\n"
     ]
    }
   ],
   "source": [
    "def create_texture_tensor(n, m):\n",
    "    texture = torch.tensor([[0, 1], [2, 3]], dtype=torch.int)\n",
    "    texture_tensor = texture.repeat((n + 1) // 2, (m + 1) // 2)\n",
    "    texture_tensor = texture_tensor[:n, :m]\n",
    "\n",
    "    return texture_tensor\n",
    "\n",
    "n = 4\n",
    "m = 5\n",
    "texture_tensor = create_texture_tensor(n, m)\n",
    "print(texture_tensor)\n",
    "\n"
   ]
  },
  {
   "cell_type": "markdown",
   "metadata": {
    "id": "WH9hxJse1RDA"
   },
   "source": [
    "1.1.5 Сгенерировать двумерный тензор `t` размерности (4, 7), состоящий из случайных действительных чисел, равномерно распределенных в дипазоне от 0 до 20. Нормализовать значения массива с помощью преобразования вида $ax+b$ так, что после нормализации максимальный элемент масива будет равен 1.0, минимальный 0.0"
   ]
  },
  {
   "cell_type": "markdown",
   "metadata": {
    "id": "vPqIeewXB-mM"
   },
   "source": [
    "[Random Sampling](https://pytorch.org/docs/stable/torch.html#random-sampling)\n",
    "\n",
    "[Distributions](https://pytorch.org/docs/stable/distributions.html)"
   ]
  },
  {
   "cell_type": "markdown",
   "metadata": {
    "id": "K_R6cwq11RDE"
   },
   "source": [
    "1.1.6 Задать два двумерных тензора `ar1` и `ar2` размерности (4, 7), состоящих из случайных целых чисел в пределах от 0 до 10. Построить двумерный тензор размерности (4, 7), каждый элемент которого представляет собой максимум из двух значений, находящихся на аналогичной позиции в массивах `ar1`, `ar2`.\n",
    "\n",
    "[Reductions ops](https://pytorch.org/docs/stable/torch.html#reduction-ops)"
   ]
  },
  {
   "cell_type": "markdown",
   "metadata": {
    "id": "x6zmMhyKBPWQ"
   },
   "source": [
    "1.1.7 Создать тензор из 20 случайных целых чисел от 0 до 100. Получить второе сверху значение в тензоре. Определить индекс этого значения."
   ]
  },
  {
   "cell_type": "markdown",
   "metadata": {
    "id": "Xshsy8fD1RDE"
   },
   "source": [
    "## 1.2 Распространение"
   ]
  },
  {
   "cell_type": "markdown",
   "metadata": {
    "id": "jlP22HAJCo28"
   },
   "source": [
    "[Numpy broadcasting](https://numpy.org/devdocs/user/theory.broadcasting.html)\n",
    "\n",
    "[Torch broadcasting](https://pytorch.org/docs/stable/notes/broadcasting.html)"
   ]
  },
  {
   "cell_type": "markdown",
   "metadata": {
    "id": "uRD6-8Gd1RDF"
   },
   "source": [
    "1.2.1 Создать тензор 11x7 вида: `[[1, 2, 3, ..., 7], [11, 12, 13, ..., 17], [21, 22, 23, ..., 27], ..., [101, 102, 103, ..., 107]]`. При решении задачи применить технику распространения."
   ]
  },
  {
   "cell_type": "code",
   "execution_count": 29,
   "metadata": {},
   "outputs": [
    {
     "name": "stdout",
     "output_type": "stream",
     "text": [
      "tensor([[  1,   2,   3,   4,   5,   6,   7],\n",
      "        [ 11,  12,  13,  14,  15,  16,  17],\n",
      "        [ 21,  22,  23,  24,  25,  26,  27],\n",
      "        [ 31,  32,  33,  34,  35,  36,  37],\n",
      "        [ 41,  42,  43,  44,  45,  46,  47],\n",
      "        [ 51,  52,  53,  54,  55,  56,  57],\n",
      "        [ 61,  62,  63,  64,  65,  66,  67],\n",
      "        [ 71,  72,  73,  74,  75,  76,  77],\n",
      "        [ 81,  82,  83,  84,  85,  86,  87],\n",
      "        [ 91,  92,  93,  94,  95,  96,  97],\n",
      "        [101, 102, 103, 104, 105, 106, 107]])\n"
     ]
    }
   ],
   "source": [
    "row_tensor = torch.arange(1, 108, 10)\n",
    "column_tensor = torch.arange(0, 7).view(1, -1)\n",
    "result_tensor = row_tensor.view(-1, 1) + column_tensor\n",
    "\n",
    "print(result_tensor)\n"
   ]
  },
  {
   "cell_type": "markdown",
   "metadata": {
    "id": "iSY9Iday1RDF"
   },
   "source": [
    "1.2.2 Вычесть одномерный тензор `b_1d` из двухмерного тензора `a_2d`, так, чтобы каждый элемент одномерного тензора вычитался из всех элементов соответствующих строк двумерного тензора.\n",
    "\n",
    "_Пример:_\n",
    "\n",
    "Для входа:\n",
    "```python\n",
    "a_2d = np.array([[3,3,3],[4,4,4],[5,5,5]])\n",
    "b_1d = np.array([1,2,3])\n",
    "```\n",
    "\n",
    "Ожидается резульат:\n",
    "\n",
    "```python\n",
    "[[2 2 2]\n",
    " [2 2 2]\n",
    " [2 2 2]]\n",
    "```"
   ]
  },
  {
   "cell_type": "markdown",
   "metadata": {
    "id": "dFTvPsY91RDF"
   },
   "source": [
    "## 1.3 Индексы, маскирование и прихотливое индексирование\n",
    "\n",
    "[Документация по функциям для работы с индексами](https://pytorch.org/docs/stable/torch.html#indexing-slicing-joining-mutating-ops)"
   ]
  },
  {
   "cell_type": "markdown",
   "metadata": {
    "id": "McYtDYhH1RDG"
   },
   "source": [
    "1.3.1 Получить индексы, для которых элементы тензоров `a` и `b` совпадают.\n",
    "\n",
    "_Пример:_\n",
    "\n",
    "Для входа:\n",
    "```python\n",
    "a = np.array([1,2,3,2,3,4,3,4,5,6])\n",
    "b = np.array([7,2,10,2,7,4,9,4,9,8])\n",
    "```\n",
    "\n",
    "Ожидается резульат:\n",
    "\n",
    "```python\n",
    "array([1, 3, 5, 7])\n",
    "```"
   ]
  },
  {
   "cell_type": "markdown",
   "metadata": {
    "id": "MnBq3nfy1RDG"
   },
   "source": [
    "1.3.2 Инвертировать порядок элементов в двумерном тензоре `torch.arange(9).view(3,3)`.\n",
    "\n",
    "Ожидаемый результат:\n",
    "\n",
    "\n",
    "```python\n",
    "array([[8, 7, 6],\n",
    "       [5, 4, 3],\n",
    "       [2, 1, 0]])\n",
    "```"
   ]
  },
  {
   "cell_type": "code",
   "execution_count": 27,
   "metadata": {},
   "outputs": [
    {
     "data": {
      "text/plain": [
       "tensor([[8, 7, 6],\n",
       "        [5, 4, 3],\n",
       "        [2, 1, 0]])"
      ]
     },
     "execution_count": 27,
     "metadata": {},
     "output_type": "execute_result"
    }
   ],
   "source": [
    "tens = torch.arange(9).reshape((3,3))\n",
    "tens_tmp = torch.tensor([8]).repeat(9).reshape(3,3)\n",
    "tens_tmp-tens"
   ]
  },
  {
   "cell_type": "markdown",
   "metadata": {
    "id": "tANsLnOC1RDH"
   },
   "source": [
    "1.3.3 Из входного тензора a получить только элементы, находящиеся в диапазоне от 5 до 10.\n",
    "\n",
    "_Пример:_\n",
    "\n",
    "Для входа:\n",
    "```python\n",
    "a = np.array([2, 6, 1, 9, 10, 3, 27])\n",
    "```\n",
    "\n",
    "Ожидается резульат:\n",
    "\n",
    "```python\n",
    "array([6, 9, 10])\n",
    "```"
   ]
  },
  {
   "cell_type": "markdown",
   "metadata": {
    "id": "3vlK0gV21RDH"
   },
   "source": [
    "1.3.4 Поменять местами столбец 1 и 2 тензора `np.arange(9).reshape(3,3)`"
   ]
  },
  {
   "cell_type": "markdown",
   "metadata": {
    "id": "cheFtWhU1RDH"
   },
   "source": [
    "1.3.5 Создать тензор 8 на 10 из случайных целых чисел из диапазона от 0 до 10 и найти в ней строку (ее индекс и вывести саму строку), в которой сумма значений минимальна."
   ]
  },
  {
   "cell_type": "markdown",
   "metadata": {
    "id": "grOCNU4XFE2B"
   },
   "source": [
    "1.3.6 Cоздать тензор из 20 случайных целых чисел от 0 до 100. Обрезать значения тензора (заменить значения, выходящие за диапазон, на крайние значения) снизу по значению 30, сверху по значению 70."
   ]
  },
  {
   "cell_type": "markdown",
   "metadata": {
    "id": "HNfQjY8P1RDI"
   },
   "source": [
    "1.3.7 Создать два тензора размера 30 на 3 из случайных целых чисел из диапазона от 0 до 10 и найти все значения первого тензора, которые больше соответсвующих (по расположению) значений второго тензора. Подсчитать сумму этих значений."
   ]
  },
  {
   "cell_type": "code",
   "execution_count": 13,
   "metadata": {},
   "outputs": [
    {
     "name": "stdout",
     "output_type": "stream",
     "text": [
      "Первая исходная матрица:  tensor([[10,  3,  7],\n",
      "        [ 8,  3,  1],\n",
      "        [ 7, 10,  8],\n",
      "        [10,  9,  0],\n",
      "        [ 5,  7,  5],\n",
      "        [ 8,  5,  0],\n",
      "        [ 9, 10,  0],\n",
      "        [ 9,  2, 10],\n",
      "        [ 4,  4,  6],\n",
      "        [ 3,  0,  6],\n",
      "        [ 6,  4, 10],\n",
      "        [10,  1,  3],\n",
      "        [ 0,  2,  8],\n",
      "        [10,  2,  0],\n",
      "        [ 1,  7, 10],\n",
      "        [ 9,  3,  5],\n",
      "        [ 2,  7,  1],\n",
      "        [ 9,  5,  8],\n",
      "        [ 9, 10,  0],\n",
      "        [ 5,  8,  9],\n",
      "        [ 0,  4,  9],\n",
      "        [ 6,  9,  1],\n",
      "        [10,  8,  1],\n",
      "        [ 9,  2,  4],\n",
      "        [ 8,  8,  8],\n",
      "        [ 6,  6,  7],\n",
      "        [ 1,  0,  8],\n",
      "        [ 3,  9,  0],\n",
      "        [ 5,  8,  4],\n",
      "        [ 5,  0,  7]])\n",
      "Вторая исходная матрица:  tensor([[ 2,  4,  2],\n",
      "        [ 4,  5, 10],\n",
      "        [ 7,  0,  4],\n",
      "        [ 8,  5,  6],\n",
      "        [ 5,  4,  8],\n",
      "        [10,  3,  6],\n",
      "        [ 5,  5,  5],\n",
      "        [ 4,  5,  2],\n",
      "        [ 6,  2,  8],\n",
      "        [ 7,  9,  3],\n",
      "        [ 9, 10,  8],\n",
      "        [ 8,  1, 10],\n",
      "        [ 5,  8,  6],\n",
      "        [ 7,  1,  9],\n",
      "        [ 4, 10,  6],\n",
      "        [ 9,  9,  4],\n",
      "        [ 4,  7,  2],\n",
      "        [ 2,  0,  3],\n",
      "        [ 8, 10,  6],\n",
      "        [ 8,  8,  2],\n",
      "        [ 6,  6,  0],\n",
      "        [ 6,  0,  3],\n",
      "        [ 7,  4,  8],\n",
      "        [ 5,  1,  7],\n",
      "        [10,  8,  2],\n",
      "        [ 9,  0,  6],\n",
      "        [ 6,  6,  2],\n",
      "        [ 8,  3,  3],\n",
      "        [ 6,  4,  1],\n",
      "        [ 6,  3,  2]])\n",
      "\n"
     ]
    },
    {
     "data": {
      "text/plain": [
       "'Сумма значений: 321'"
      ]
     },
     "execution_count": 13,
     "metadata": {},
     "output_type": "execute_result"
    }
   ],
   "source": [
    "tens1 = torch.randint(0, 11, (30, 3))\n",
    "tens2 = torch.randint(0, 11, (30, 3))\n",
    "print(\"Первая исходная матрица: \", tens1)\n",
    "print(\"Вторая исходная матрица: \", tens2)\n",
    "print()\n",
    "f\"Сумма значений: {tens1[tens1>tens2].sum().item()}\""
   ]
  },
  {
   "cell_type": "markdown",
   "metadata": {
    "id": "doBCxYJA1RDI"
   },
   "source": [
    "1.3.8 При помощи прихотливого индексирования для двухмерного массива размерности (20, 20), состоящего из случайных целых чисел в пределах от 0 до 10 получить массив элементов находящихся на диагонали, проходящей над основной диагональю."
   ]
  },
  {
   "cell_type": "markdown",
   "metadata": {
    "id": "6M1lkfLp1RDJ"
   },
   "source": [
    "1.3.9 Задать два двухмерных тензора `ar1` и `ar2` размерности (5, 10), состоящих из случайных целых чисел в пределах от 0 до 10. Удвоить все значения `ar1`, которые совпадают со значениями `ar2`, расположенными на аналогичных позициях."
   ]
  },
  {
   "cell_type": "code",
   "execution_count": 5,
   "metadata": {},
   "outputs": [
    {
     "name": "stdout",
     "output_type": "stream",
     "text": [
      "Первая исходная матрица:  tensor([[ 5,  7,  6, 10,  2,  9,  9,  3,  9,  3],\n",
      "        [ 2,  2, 10,  9,  9,  3,  7,  9, 10,  6],\n",
      "        [ 8,  0,  2,  4,  6,  4,  3,  2,  2,  4],\n",
      "        [ 3,  4,  4,  1,  9,  1,  4,  3, 10,  8],\n",
      "        [ 8, 10,  2,  9,  8,  7,  7,  8,  3,  2]])\n",
      "Вторая исходная матрица:  tensor([[ 6,  0,  4,  4,  0, 10,  2,  0,  4,  5],\n",
      "        [ 8, 10,  3,  6,  5,  7,  5,  7, 10, 10],\n",
      "        [ 8,  7,  8,  2, 10, 10,  5,  6,  0,  8],\n",
      "        [ 9,  7,  3, 10,  4,  4,  2,  9,  6,  7],\n",
      "        [ 6,  7,  9,  1,  0,  4,  6,  4,  0,  9]])\n",
      "Результирующая матрица:  tensor([[ 5,  7,  6, 10,  2,  9,  9,  3,  9,  3],\n",
      "        [ 2,  2, 10,  9,  9,  3,  7,  9, 20,  6],\n",
      "        [16,  0,  2,  4,  6,  4,  3,  2,  2,  4],\n",
      "        [ 3,  4,  4,  1,  9,  1,  4,  3, 10,  8],\n",
      "        [ 8, 10,  2,  9,  8,  7,  7,  8,  3,  2]])\n"
     ]
    }
   ],
   "source": [
    "ar1 = torch.randint(0, 11, (5, 10))\n",
    "ar2 = torch.randint(0, 11, (5, 10))\n",
    "print(\"Первая исходная матрица: \", ar1)\n",
    "print(\"Вторая исходная матрица: \", ar2)\n",
    "ar1[ar1 == ar2] *= 2\n",
    "print(\"Результирующая матрица: \", ar1)\n"
   ]
  },
  {
   "cell_type": "markdown",
   "metadata": {
    "id": "Qe2oVr4p1RDJ"
   },
   "source": [
    "1.3.10 Заданы три двухмерных тензора `ar1`, `ar2` и `ar3` размерности (4, 7), состоящие из случайных целых чисел в пределах от 0 до 10. Обнулить все элементы `ar1`, которые больше соответствующих (находящихся в соответствующих позициях) элементов `ar2` и меньше соответствующих элементов `ar3`."
   ]
  },
  {
   "cell_type": "markdown",
   "metadata": {
    "id": "BTcRVeYh1RDK"
   },
   "source": [
    "1.3.11 Задан двумерный тензор `ar1` размерности (20, 5), состоящий из случайных целых чисел в пределах от 0 до 20. Определить, в каких столбцах не менее 5 раз встречается значение, максимальное по своей строке."
   ]
  },
  {
   "cell_type": "markdown",
   "metadata": {
    "id": "ZeYlNWNE1RDK"
   },
   "source": [
    "1.3.12 Задан двумерный тензор `ar1` размерности (4, 7), состоящий из случайных  чисел в пределах от 0 до 1. Обнулить все значения в массиве, расположенные строго правее и ниже максимального элемента массива. "
   ]
  },
  {
   "cell_type": "markdown",
   "metadata": {
    "id": "pYxX90B11RDL"
   },
   "source": [
    "1.3.13 Построить \"one-hot encoding\" для одномерного тензора, содержащего целые числа (длина вектора заранее неизвестна, набор значений заранее неизвестен, при этом в итоговой матрице должны присутствовать столбцы для всех натуральных чисел вплоть до максимального встречающегося в исходном массиве).\n",
    "\n",
    "Пример:\n",
    "\n",
    "для тензора `torch.tensor([2, 3, 2, 2, 2, 1])`.\n",
    "\n",
    "Ожидается результат:\n",
    "\n",
    "```python\n",
    "tensor([[0., 1., 0.],\n",
    "        [0., 0., 1.],\n",
    "        [0., 1., 0.],\n",
    "        [0., 1., 0.],\n",
    "        [0., 1., 0.],\n",
    "        [1., 0., 0.]])\n",
    "```"
   ]
  },
  {
   "cell_type": "code",
   "execution_count": 45,
   "metadata": {},
   "outputs": [
    {
     "name": "stdout",
     "output_type": "stream",
     "text": [
      "tensor([[0., 0., 1., 0., 0., 0., 0., 0., 0., 0., 0., 0., 0., 0., 0., 0.],\n",
      "        [0., 0., 0., 1., 0., 0., 0., 0., 0., 0., 0., 0., 0., 0., 0., 0.],\n",
      "        [0., 0., 1., 0., 0., 0., 0., 0., 0., 0., 0., 0., 0., 0., 0., 0.],\n",
      "        [0., 0., 0., 0., 0., 0., 0., 0., 0., 0., 0., 0., 0., 0., 0., 1.],\n",
      "        [0., 0., 1., 0., 0., 0., 0., 0., 0., 0., 0., 0., 0., 0., 0., 0.],\n",
      "        [0., 1., 0., 0., 0., 0., 0., 0., 0., 0., 0., 0., 0., 0., 0., 0.]])\n"
     ]
    }
   ],
   "source": [
    "import torch\n",
    "\n",
    "def one_hot_encode(tensor):\n",
    "    max_value = torch.max(tensor)\n",
    "    one_hot_matrix = torch.zeros((len(tensor), max_value + 1), dtype=torch.float)\n",
    "    one_hot_matrix.scatter_(1, tensor.unsqueeze(1), 1)\n",
    "    \n",
    "    return one_hot_matrix\n",
    "\n",
    "input_tensor = torch.tensor([2, 3, 2, 15, 2, 1])\n",
    "one_hot_encoded = one_hot_encode(input_tensor)\n",
    "print(one_hot_encoded)\n",
    "\n",
    "\n"
   ]
  },
  {
   "cell_type": "markdown",
   "metadata": {
    "id": "GYU8DmNTDLN8"
   },
   "source": [
    "1.3.14 Создать тензор `arr` из 20 случайных целых чисел от 0 до 100. Найти самое частое значение в тензоре. \n",
    "Найти индексы в тензоре, соответствующие самому частому значению. Проверить, как работет алгоритм при двух значениях, имеющих наибольшую встречаемость, предложить приемлемое поведение алгоритма для этого случая. "
   ]
  },
  {
   "cell_type": "markdown",
   "metadata": {
    "id": "UenAEfEG1RDN"
   },
   "source": [
    "## 1.4 Математические задачи"
   ]
  },
  {
   "cell_type": "markdown",
   "metadata": {
    "id": "6weDrqJR1RDN"
   },
   "source": [
    "1.4.1 Приблизительно (с погрешностью порядка 1%) рассчитать на какой части интервала от 0 до 10 значение функции x * sin(x) больше 0.5."
   ]
  },
  {
   "cell_type": "code",
   "execution_count": 43,
   "metadata": {},
   "outputs": [
    {
     "data": {
      "text/plain": [
       "tensor([0.7508, 0.7608, 0.7708, 0.7808, 0.7908, 0.8008, 0.8108, 0.8208, 0.8308,\n",
       "        0.8408, 0.8509, 0.8609, 0.8709, 0.8809, 0.8909, 0.9009, 0.9109, 0.9209,\n",
       "        0.9309, 0.9409, 0.9510, 0.9610, 0.9710, 0.9810, 0.9910, 1.0010, 1.0110,\n",
       "        1.0210, 1.0310, 1.0410, 1.0511, 1.0611, 1.0711, 1.0811, 1.0911, 1.1011,\n",
       "        1.1111, 1.1211, 1.1311, 1.1411, 1.1512, 1.1612, 1.1712, 1.1812, 1.1912,\n",
       "        1.2012, 1.2112, 1.2212, 1.2312, 1.2412, 1.2513, 1.2613, 1.2713, 1.2813,\n",
       "        1.2913, 1.3013, 1.3113, 1.3213, 1.3313, 1.3413, 1.3514, 1.3614, 1.3714,\n",
       "        1.3814, 1.3914, 1.4014, 1.4114, 1.4214, 1.4314, 1.4414, 1.4515, 1.4615,\n",
       "        1.4715, 1.4815, 1.4915, 1.5015, 1.5115, 1.5215, 1.5315, 1.5415, 1.5516,\n",
       "        1.5616, 1.5716, 1.5816, 1.5916, 1.6016, 1.6116, 1.6216, 1.6316, 1.6416,\n",
       "        1.6517, 1.6617, 1.6717, 1.6817, 1.6917, 1.7017, 1.7117, 1.7217, 1.7317,\n",
       "        1.7417, 1.7518, 1.7618, 1.7718, 1.7818, 1.7918, 1.8018, 1.8118, 1.8218,\n",
       "        1.8318, 1.8418, 1.8519, 1.8619, 1.8719, 1.8819, 1.8919, 1.9019, 1.9119,\n",
       "        1.9219, 1.9319, 1.9419, 1.9520, 1.9620, 1.9720, 1.9820, 1.9920, 2.0020,\n",
       "        2.0120, 2.0220, 2.0320, 2.0420, 2.0521, 2.0621, 2.0721, 2.0821, 2.0921,\n",
       "        2.1021, 2.1121, 2.1221, 2.1321, 2.1421, 2.1522, 2.1622, 2.1722, 2.1822,\n",
       "        2.1922, 2.2022, 2.2122, 2.2222, 2.2322, 2.2422, 2.2523, 2.2623, 2.2723,\n",
       "        2.2823, 2.2923, 2.3023, 2.3123, 2.3223, 2.3323, 2.3423, 2.3524, 2.3624,\n",
       "        2.3724, 2.3824, 2.3924, 2.4024, 2.4124, 2.4224, 2.4324, 2.4424, 2.4525,\n",
       "        2.4625, 2.4725, 2.4825, 2.4925, 2.5025, 2.5125, 2.5225, 2.5325, 2.5425,\n",
       "        2.5526, 2.5626, 2.5726, 2.5826, 2.5926, 2.6026, 2.6126, 2.6226, 2.6326,\n",
       "        2.6426, 2.6527, 2.6627, 2.6727, 2.6827, 2.6927, 2.7027, 2.7127, 2.7227,\n",
       "        2.7327, 2.7427, 2.7528, 2.7628, 2.7728, 2.7828, 2.7928, 2.8028, 2.8128,\n",
       "        2.8228, 2.8328, 2.8428, 2.8529, 2.8629, 2.8729, 2.8829, 2.8929, 2.9029,\n",
       "        2.9129, 2.9229, 2.9329, 2.9429, 2.9530, 2.9630, 6.3664, 6.3764, 6.3864,\n",
       "        6.3964, 6.4064, 6.4164, 6.4264, 6.4364, 6.4464, 6.4565, 6.4665, 6.4765,\n",
       "        6.4865, 6.4965, 6.5065, 6.5165, 6.5265, 6.5365, 6.5465, 6.5566, 6.5666,\n",
       "        6.5766, 6.5866, 6.5966, 6.6066, 6.6166, 6.6266, 6.6366, 6.6466, 6.6567,\n",
       "        6.6667, 6.6767, 6.6867, 6.6967, 6.7067, 6.7167, 6.7267, 6.7367, 6.7467,\n",
       "        6.7568, 6.7668, 6.7768, 6.7868, 6.7968, 6.8068, 6.8168, 6.8268, 6.8368,\n",
       "        6.8468, 6.8569, 6.8669, 6.8769, 6.8869, 6.8969, 6.9069, 6.9169, 6.9269,\n",
       "        6.9369, 6.9469, 6.9570, 6.9670, 6.9770, 6.9870, 6.9970, 7.0070, 7.0170,\n",
       "        7.0270, 7.0370, 7.0470, 7.0571, 7.0671, 7.0771, 7.0871, 7.0971, 7.1071,\n",
       "        7.1171, 7.1271, 7.1371, 7.1471, 7.1572, 7.1672, 7.1772, 7.1872, 7.1972,\n",
       "        7.2072, 7.2172, 7.2272, 7.2372, 7.2472, 7.2573, 7.2673, 7.2773, 7.2873,\n",
       "        7.2973, 7.3073, 7.3173, 7.3273, 7.3373, 7.3473, 7.3574, 7.3674, 7.3774,\n",
       "        7.3874, 7.3974, 7.4074, 7.4174, 7.4274, 7.4374, 7.4474, 7.4575, 7.4675,\n",
       "        7.4775, 7.4875, 7.4975, 7.5075, 7.5175, 7.5275, 7.5375, 7.5475, 7.5576,\n",
       "        7.5676, 7.5776, 7.5876, 7.5976, 7.6076, 7.6176, 7.6276, 7.6376, 7.6476,\n",
       "        7.6577, 7.6677, 7.6777, 7.6877, 7.6977, 7.7077, 7.7177, 7.7277, 7.7377,\n",
       "        7.7477, 7.7578, 7.7678, 7.7778, 7.7878, 7.7978, 7.8078, 7.8178, 7.8278,\n",
       "        7.8378, 7.8478, 7.8579, 7.8679, 7.8779, 7.8879, 7.8979, 7.9079, 7.9179,\n",
       "        7.9279, 7.9379, 7.9479, 7.9580, 7.9680, 7.9780, 7.9880, 7.9980, 8.0080,\n",
       "        8.0180, 8.0280, 8.0380, 8.0480, 8.0581, 8.0681, 8.0781, 8.0881, 8.0981,\n",
       "        8.1081, 8.1181, 8.1281, 8.1381, 8.1481, 8.1582, 8.1682, 8.1782, 8.1882,\n",
       "        8.1982, 8.2082, 8.2182, 8.2282, 8.2382, 8.2482, 8.2583, 8.2683, 8.2783,\n",
       "        8.2883, 8.2983, 8.3083, 8.3183, 8.3283, 8.3383, 8.3483, 8.3584, 8.3684,\n",
       "        8.3784, 8.3884, 8.3984, 8.4084, 8.4184, 8.4284, 8.4384, 8.4484, 8.4585,\n",
       "        8.4685, 8.4785, 8.4885, 8.4985, 8.5085, 8.5185, 8.5285, 8.5385, 8.5485,\n",
       "        8.5586, 8.5686, 8.5786, 8.5886, 8.5986, 8.6086, 8.6186, 8.6286, 8.6386,\n",
       "        8.6486, 8.6587, 8.6687, 8.6787, 8.6887, 8.6987, 8.7087, 8.7187, 8.7287,\n",
       "        8.7387, 8.7487, 8.7588, 8.7688, 8.7788, 8.7888, 8.7988, 8.8088, 8.8188,\n",
       "        8.8288, 8.8388, 8.8488, 8.8589, 8.8689, 8.8789, 8.8889, 8.8989, 8.9089,\n",
       "        8.9189, 8.9289, 8.9389, 8.9489, 8.9590, 8.9690, 8.9790, 8.9890, 8.9990,\n",
       "        9.0090, 9.0190, 9.0290, 9.0390, 9.0490, 9.0591, 9.0691, 9.0791, 9.0891,\n",
       "        9.0991, 9.1091, 9.1191, 9.1291, 9.1391, 9.1491, 9.1592, 9.1692, 9.1792,\n",
       "        9.1892, 9.1992, 9.2092, 9.2192, 9.2292, 9.2392, 9.2492, 9.2593, 9.2693,\n",
       "        9.2793, 9.2893, 9.2993, 9.3093, 9.3193, 9.3293, 9.3393, 9.3493, 9.3594,\n",
       "        9.3694])"
      ]
     },
     "execution_count": 43,
     "metadata": {},
     "output_type": "execute_result"
    }
   ],
   "source": [
    "def func(x):\n",
    "    return x * torch.sin(x)\n",
    "\n",
    "target_value = 0.5\n",
    "x = torch.linspace(0,10,int(10/0.01))\n",
    "y = func(x)\n",
    "x[y>0.5]"
   ]
  },
  {
   "cell_type": "markdown",
   "metadata": {
    "id": "B9xAv8TR1RDN"
   },
   "source": [
    "1.4.2 Найти все простые числа в пределах ста. (Для решения предлагается использовать Решето Эратосфена) Использовать не более 1 цикла (желательно)."
   ]
  },
  {
   "cell_type": "markdown",
   "metadata": {
    "id": "AHupFoTR1RDN"
   },
   "source": [
    "1.4.3 Найти евклидово расстояние между двумя одномерными тензорами одинаковой размерности, не используя готовые решения из библиотек."
   ]
  },
  {
   "cell_type": "code",
   "execution_count": 20,
   "metadata": {},
   "outputs": [
    {
     "name": "stdout",
     "output_type": "stream",
     "text": [
      "Первый тензор:  tensor([0.2229, 0.8167, 0.7385, 0.1057, 0.1914], dtype=torch.float64)\n",
      "Второй тензор:  tensor([0.0478, 0.2877, 0.5001, 0.3833, 0.4362], dtype=torch.float64)\n",
      "Евклидово расстояние:  0.710190997812107\n"
     ]
    }
   ],
   "source": [
    "def euclidean_distance(tensor1, tensor2):\n",
    "    squared_diff = (tensor1 - tensor2)**2\n",
    "    sum_squared_diff = squared_diff.sum()\n",
    "    return sum_squared_diff.sqrt()\n",
    "\n",
    "\n",
    "tensor1 = torch.tensor(np.random.rand(5))\n",
    "tensor2 = torch.tensor(np.random.rand(5))\n",
    "print('Первый тензор: ', tensor1)\n",
    "print('Второй тензор: ', tensor2)\n",
    "distance = euclidean_distance(tensor1, tensor2)\n",
    "print(\"Евклидово расстояние: \",float(distance))\n"
   ]
  },
  {
   "cell_type": "markdown",
   "metadata": {
    "id": "j-ZvjWDKDVMQ"
   },
   "source": [
    "1.4.4 Создать двумерный тензор 20 на 3, содержащий случайные целые числа от 0 до 100. \n",
    "Интерпретируя тензор как 20 векторов из 3х компонент, отсортировать его по длине векторов."
   ]
  },
  {
   "cell_type": "markdown",
   "metadata": {
    "id": "IkBRFTKa1RDO"
   },
   "source": [
    "1.4.5 Найти \"локальные максимумы\" в одномерном тензоре (т.е. значения, большие предыдущего и последующего) `torch.tensor([1, 3, 7, 1, 2, 6, 0, 1])` и вывести их индексы."
   ]
  },
  {
   "cell_type": "markdown",
   "metadata": {
    "id": "VXD58rlc1RDP"
   },
   "source": [
    "1.4.6 Задан произвольный массив numpy (например массив из 100 случайных числе от 0 до 1). Необходимо найти в нем число наиболее близкое к заданному."
   ]
  },
  {
   "cell_type": "code",
   "execution_count": 42,
   "metadata": {},
   "outputs": [
    {
     "name": "stdout",
     "output_type": "stream",
     "text": [
      "Исходный массив:\n",
      "[0.16723374 0.78945765 0.78229024 0.18285111 0.09999805 0.10762345\n",
      " 0.52416563 0.53553556 0.68334111 0.49865879 0.77073597 0.32681888\n",
      " 0.59777    0.27416925 0.33386651 0.74069789 0.41906659 0.90908989\n",
      " 0.52725197 0.27429307 0.18778862 0.58806498 0.19698019 0.78402686\n",
      " 0.61486119 0.5670033  0.35400313 0.86639971 0.5615731  0.41574888\n",
      " 0.67919216 0.51027356 0.60769895 0.7765009  0.93245014 0.97950132\n",
      " 0.96248501 0.23675668 0.17785917 0.48411339 0.68922908 0.01695966\n",
      " 0.39697323 0.85290844 0.87734059 0.29039027 0.92990617 0.46013084\n",
      " 0.21892036 0.82921397 0.65596428 0.26404334 0.92851916 0.81233376\n",
      " 0.19320987 0.59479597 0.92169989 0.79581621 0.53515295 0.21915197\n",
      " 0.26256199 0.66478584 0.88456463 0.0440596  0.36990383 0.83542177\n",
      " 0.66652886 0.18768954 0.06408896 0.40983792 0.04595559 0.04827974\n",
      " 0.26811943 0.42218728 0.92126273 0.65386144 0.95680375 0.4583911\n",
      " 0.59412655 0.17405078 0.9955748  0.16391394 0.08583154 0.73526394\n",
      " 0.4141172  0.43324955 0.069962   0.61836065 0.23701501 0.80787481\n",
      " 0.69973599 0.24006179 0.67608992 0.31751339 0.44607807 0.65248424\n",
      " 0.82337958 0.46343687 0.28439756 0.25456622]\n",
      "Заданное число: 0.5\n",
      "Число, наиболее близкое к заданному: 0.4986587868445308\n"
     ]
    }
   ],
   "source": [
    "import numpy as np\n",
    "\n",
    "numpy_array = np.random.rand(100)\n",
    "target_number = 0.5 \n",
    "tensor_array = torch.tensor(numpy_array)\n",
    "\n",
    "absolute_difference = torch.abs(tensor_array - target_number)\n",
    "closest_index = torch.argmin(absolute_difference)\n",
    "closest_number = tensor_array[closest_index]\n",
    "\n",
    "print(\"Исходный массив:\")\n",
    "print(numpy_array)\n",
    "print(\"Заданное число:\", target_number)\n",
    "print(\"Число, наиболее близкое к заданному:\", closest_number.item())"
   ]
  },
  {
   "cell_type": "markdown",
   "metadata": {
    "id": "81F_B2ij1RDP"
   },
   "source": [
    "1.4.7 Решить матричное уравнение `A*X*B=-C` - найти матрицу X. Где `A = [[-1, 2, 4], [-3, 1, 2], [-3, 0, 1]]`, `B=[[3, -1], [2, 1]]`, `C=[[7, 21], [11, 8], [8, 4]]`."
   ]
  },
  {
   "cell_type": "markdown",
   "metadata": {
    "id": "1P7O19bj1RDP"
   },
   "source": [
    "1.4.8 Проверить, является ли система векторов a1 = (3; −3; 0; 7),\n",
    "a2 = (2; 2; 4; 7), a3 = (1; 2; 3; 4), a4 = (5; −4; 1; 3) линейно зависимой?"
   ]
  },
  {
   "cell_type": "markdown",
   "metadata": {
    "id": "Jg_bzMVS1RDQ"
   },
   "source": [
    "1.4.9 Сгенирировать тензор из 200 случайных целых чисел, нормально распрделенных cо стандартным отклонением $\\sigma = 10$ и матожиданием $\\mu = 0$. Построить тензор гистограммы с 20 бинами. "
   ]
  },
  {
   "cell_type": "code",
   "execution_count": 12,
   "metadata": {},
   "outputs": [
    {
     "data": {
      "image/png": "[encoded data removed]",
      "text/plain": [
       "<Figure size 640x480 with 1 Axes>"
      ]
     },
     "metadata": {},
     "output_type": "display_data"
    }
   ],
   "source": [
    "import matplotlib.pyplot as plt\n",
    "\n",
    "mu = 0\n",
    "sigma = 10  \n",
    "num_samples = 200\n",
    "\n",
    "random_numbers = torch.normal(mean=mu, std=sigma, size=(num_samples,))\n",
    "\n",
    "plt.hist(random_numbers.numpy(), bins=20, density=True, alpha=0.6, color='b')\n",
    "\n",
    "plt.title('Гистограмма нормального распределения')\n",
    "plt.xlabel('Значение')\n",
    "plt.ylabel('Плотность вероятности')\n",
    "\n",
    "plt.show()\n"
   ]
  },
  {
   "cell_type": "code",
   "execution_count": null,
   "metadata": {},
   "outputs": [],
   "source": []
  },
  {
   "cell_type": "code",
   "execution_count": null,
   "metadata": {},
   "outputs": [],
   "source": []
  }
 ],
 "metadata": {
  "colab": {
   "name": "01_tensor_v1_blank.ipynb",
   "provenance": [],
   "toc_visible": true
  },
  "kernelspec": {
   "display_name": "Python 3 (ipykernel)",
   "language": "python",
   "name": "python3"
  },
  "language_info": {
   "codemirror_mode": {
    "name": "ipython",
    "version": 3
   },
   "file_extension": ".py",
   "mimetype": "text/x-python",
   "name": "python",
   "nbconvert_exporter": "python",
   "pygments_lexer": "ipython3",
   "version": "3.9.13"
  }
 },
 "nbformat": 4,
 "nbformat_minor": 1
}
